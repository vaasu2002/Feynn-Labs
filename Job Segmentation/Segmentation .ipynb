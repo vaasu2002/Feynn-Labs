{
 "cells": [
  {
   "cell_type": "code",
   "execution_count": 1,
   "id": "47ce582d",
   "metadata": {},
   "outputs": [],
   "source": [
    "import pandas as pd"
   ]
  },
  {
   "cell_type": "code",
   "execution_count": 2,
   "id": "50830364",
   "metadata": {},
   "outputs": [],
   "source": [
    "df = pd.read_csv(r'C:\\Users\\NIhar\\Downloads\\Indeed_after_cleaning.csv')"
   ]
  },
  {
   "cell_type": "code",
   "execution_count": 4,
   "id": "7c0925b8",
   "metadata": {},
   "outputs": [
    {
     "data": {
      "text/html": [
       "<div>\n",
       "<style scoped>\n",
       "    .dataframe tbody tr th:only-of-type {\n",
       "        vertical-align: middle;\n",
       "    }\n",
       "\n",
       "    .dataframe tbody tr th {\n",
       "        vertical-align: top;\n",
       "    }\n",
       "\n",
       "    .dataframe thead th {\n",
       "        text-align: right;\n",
       "    }\n",
       "</style>\n",
       "<table border=\"1\" class=\"dataframe\">\n",
       "  <thead>\n",
       "    <tr style=\"text-align: right;\">\n",
       "      <th></th>\n",
       "      <th>Unnamed: 0</th>\n",
       "      <th>Unnamed: 1</th>\n",
       "      <th>Date</th>\n",
       "      <th>Company Name</th>\n",
       "      <th>Location</th>\n",
       "      <th>Job Title</th>\n",
       "      <th>Description</th>\n",
       "      <th>JOB</th>\n",
       "      <th>Location.1</th>\n",
       "      <th>State</th>\n",
       "      <th>Unnamed: 10</th>\n",
       "    </tr>\n",
       "  </thead>\n",
       "  <tbody>\n",
       "    <tr>\n",
       "      <th>0</th>\n",
       "      <td>0</td>\n",
       "      <td>NaN</td>\n",
       "      <td>Posted3 days ago</td>\n",
       "      <td>Bosch Group</td>\n",
       "      <td>Bengaluru, Karnataka</td>\n",
       "      <td>newData Scientist – AI / Deep Learning for Aut...</td>\n",
       "      <td>3.Most importantly – data aptitude.\\n1.Looking...</td>\n",
       "      <td>Data Scientist</td>\n",
       "      <td>Bengaluru</td>\n",
       "      <td>Karnataka</td>\n",
       "      <td>NaN</td>\n",
       "    </tr>\n",
       "    <tr>\n",
       "      <th>1</th>\n",
       "      <td>1</td>\n",
       "      <td>NaN</td>\n",
       "      <td>Posted3 days ago</td>\n",
       "      <td>Standard Chartered</td>\n",
       "      <td>Chennai, Tamil Nadu</td>\n",
       "      <td>newData Scientist, AIML</td>\n",
       "      <td>Manage a team dedicated for reviewing models r...</td>\n",
       "      <td>Data Scientist</td>\n",
       "      <td>Chennai</td>\n",
       "      <td>Tamil Nadu</td>\n",
       "      <td>NaN</td>\n",
       "    </tr>\n",
       "    <tr>\n",
       "      <th>2</th>\n",
       "      <td>2</td>\n",
       "      <td>NaN</td>\n",
       "      <td>PostedToday</td>\n",
       "      <td>Kaplan</td>\n",
       "      <td>Bengaluru, Karnataka</td>\n",
       "      <td>newAssociate Data Scientist</td>\n",
       "      <td>Collaborate and help other data scientists.\\nE...</td>\n",
       "      <td>Data Scientist</td>\n",
       "      <td>Bengaluru</td>\n",
       "      <td>Karnataka</td>\n",
       "      <td>NaN</td>\n",
       "    </tr>\n",
       "    <tr>\n",
       "      <th>3</th>\n",
       "      <td>3</td>\n",
       "      <td>NaN</td>\n",
       "      <td>Posted1 day ago</td>\n",
       "      <td>Corteva Agriscience</td>\n",
       "      <td>Hyderabad, Telangana</td>\n",
       "      <td>newAssociate Data Scientist</td>\n",
       "      <td>Leverage data science and data engineering res...</td>\n",
       "      <td>Data Scientist</td>\n",
       "      <td>Hyderabad</td>\n",
       "      <td>Telangana</td>\n",
       "      <td>NaN</td>\n",
       "    </tr>\n",
       "    <tr>\n",
       "      <th>4</th>\n",
       "      <td>4</td>\n",
       "      <td>NaN</td>\n",
       "      <td>Posted14 days ago</td>\n",
       "      <td>UnitedHealth Group</td>\n",
       "      <td>Bengaluru, Karnataka</td>\n",
       "      <td>Assc Data Scientist</td>\n",
       "      <td>4.Must have experience in working with end to ...</td>\n",
       "      <td>Data Scientist</td>\n",
       "      <td>Bengaluru</td>\n",
       "      <td>Karnataka</td>\n",
       "      <td>NaN</td>\n",
       "    </tr>\n",
       "  </tbody>\n",
       "</table>\n",
       "</div>"
      ],
      "text/plain": [
       "   Unnamed: 0  Unnamed: 1               Date         Company Name  \\\n",
       "0           0         NaN   Posted3 days ago          Bosch Group   \n",
       "1           1         NaN   Posted3 days ago   Standard Chartered   \n",
       "2           2         NaN        PostedToday               Kaplan   \n",
       "3           3         NaN    Posted1 day ago  Corteva Agriscience   \n",
       "4           4         NaN  Posted14 days ago   UnitedHealth Group   \n",
       "\n",
       "               Location                                          Job Title  \\\n",
       "0  Bengaluru, Karnataka  newData Scientist – AI / Deep Learning for Aut...   \n",
       "1   Chennai, Tamil Nadu                            newData Scientist, AIML   \n",
       "2  Bengaluru, Karnataka                        newAssociate Data Scientist   \n",
       "3  Hyderabad, Telangana                        newAssociate Data Scientist   \n",
       "4  Bengaluru, Karnataka                                Assc Data Scientist   \n",
       "\n",
       "                                         Description             JOB  \\\n",
       "0  3.Most importantly – data aptitude.\\n1.Looking...  Data Scientist   \n",
       "1  Manage a team dedicated for reviewing models r...  Data Scientist   \n",
       "2  Collaborate and help other data scientists.\\nE...  Data Scientist   \n",
       "3  Leverage data science and data engineering res...  Data Scientist   \n",
       "4  4.Must have experience in working with end to ...  Data Scientist   \n",
       "\n",
       "  Location.1        State Unnamed: 10  \n",
       "0  Bengaluru    Karnataka         NaN  \n",
       "1    Chennai   Tamil Nadu         NaN  \n",
       "2  Bengaluru    Karnataka         NaN  \n",
       "3  Hyderabad    Telangana         NaN  \n",
       "4  Bengaluru    Karnataka         NaN  "
      ]
     },
     "execution_count": 4,
     "metadata": {},
     "output_type": "execute_result"
    }
   ],
   "source": [
    "df.head()"
   ]
  },
  {
   "cell_type": "code",
   "execution_count": 5,
   "id": "36833fb8",
   "metadata": {},
   "outputs": [
    {
     "data": {
      "text/html": [
       "<div>\n",
       "<style scoped>\n",
       "    .dataframe tbody tr th:only-of-type {\n",
       "        vertical-align: middle;\n",
       "    }\n",
       "\n",
       "    .dataframe tbody tr th {\n",
       "        vertical-align: top;\n",
       "    }\n",
       "\n",
       "    .dataframe thead th {\n",
       "        text-align: right;\n",
       "    }\n",
       "</style>\n",
       "<table border=\"1\" class=\"dataframe\">\n",
       "  <thead>\n",
       "    <tr style=\"text-align: right;\">\n",
       "      <th></th>\n",
       "      <th>Unnamed: 0</th>\n",
       "      <th>Unnamed: 1</th>\n",
       "      <th>Date</th>\n",
       "      <th>Company Name</th>\n",
       "      <th>Location</th>\n",
       "      <th>Job Title</th>\n",
       "      <th>Description</th>\n",
       "      <th>JOB</th>\n",
       "      <th>Location.1</th>\n",
       "      <th>State</th>\n",
       "      <th>Unnamed: 10</th>\n",
       "    </tr>\n",
       "  </thead>\n",
       "  <tbody>\n",
       "    <tr>\n",
       "      <th>0</th>\n",
       "      <td>0</td>\n",
       "      <td>NaN</td>\n",
       "      <td>Posted3 days ago</td>\n",
       "      <td>Bosch Group</td>\n",
       "      <td>Bengaluru, Karnataka</td>\n",
       "      <td>newData Scientist – AI / Deep Learning for Aut...</td>\n",
       "      <td>3.Most importantly – data aptitude.\\n1.Looking...</td>\n",
       "      <td>Data Scientist</td>\n",
       "      <td>Bengaluru</td>\n",
       "      <td>Karnataka</td>\n",
       "      <td>NaN</td>\n",
       "    </tr>\n",
       "    <tr>\n",
       "      <th>65</th>\n",
       "      <td>65</td>\n",
       "      <td>NaN</td>\n",
       "      <td>Posted5 days ago</td>\n",
       "      <td>Bosch Group</td>\n",
       "      <td>Bengaluru, Karnataka</td>\n",
       "      <td>newData Scientist</td>\n",
       "      <td>Able to understand various data structures and...</td>\n",
       "      <td>Data Scientist</td>\n",
       "      <td>Bengaluru</td>\n",
       "      <td>Karnataka</td>\n",
       "      <td>NaN</td>\n",
       "    </tr>\n",
       "    <tr>\n",
       "      <th>69</th>\n",
       "      <td>69</td>\n",
       "      <td>NaN</td>\n",
       "      <td>Posted30+ days ago</td>\n",
       "      <td>Bosch Group</td>\n",
       "      <td>Bengaluru, Karnataka</td>\n",
       "      <td>Data Scientist / Sr. Data Scientist</td>\n",
       "      <td>Proven track record and experience with statis...</td>\n",
       "      <td>Data Scientist</td>\n",
       "      <td>Bengaluru</td>\n",
       "      <td>Karnataka</td>\n",
       "      <td>NaN</td>\n",
       "    </tr>\n",
       "    <tr>\n",
       "      <th>82</th>\n",
       "      <td>82</td>\n",
       "      <td>NaN</td>\n",
       "      <td>Posted5 days ago</td>\n",
       "      <td>Bosch Group</td>\n",
       "      <td>Bengaluru, Karnataka</td>\n",
       "      <td>newData Scientist</td>\n",
       "      <td>Able to understand various data structures and...</td>\n",
       "      <td>Data Scientist</td>\n",
       "      <td>Bengaluru</td>\n",
       "      <td>Karnataka</td>\n",
       "      <td>NaN</td>\n",
       "    </tr>\n",
       "    <tr>\n",
       "      <th>94</th>\n",
       "      <td>94</td>\n",
       "      <td>NaN</td>\n",
       "      <td>Posted5 days ago</td>\n",
       "      <td>Bosch Group</td>\n",
       "      <td>Bengaluru, Karnataka</td>\n",
       "      <td>newData Scientist for Battery Domain</td>\n",
       "      <td>Ø Passionate to solve engineering problems usi...</td>\n",
       "      <td>Data Scientist</td>\n",
       "      <td>Bengaluru</td>\n",
       "      <td>Karnataka</td>\n",
       "      <td>NaN</td>\n",
       "    </tr>\n",
       "    <tr>\n",
       "      <th>167</th>\n",
       "      <td>167</td>\n",
       "      <td>NaN</td>\n",
       "      <td>Posted30+ days ago</td>\n",
       "      <td>Bosch Group</td>\n",
       "      <td>Bengaluru, Karnataka</td>\n",
       "      <td>BCAI - Data Scientist / Senior Data Scientist</td>\n",
       "      <td>Mine and analyze data, applying statistical me...</td>\n",
       "      <td>Data Scientist</td>\n",
       "      <td>Bengaluru</td>\n",
       "      <td>Karnataka</td>\n",
       "      <td>NaN</td>\n",
       "    </tr>\n",
       "    <tr>\n",
       "      <th>186</th>\n",
       "      <td>186</td>\n",
       "      <td>NaN</td>\n",
       "      <td>Posted9 days ago</td>\n",
       "      <td>Bosch Group</td>\n",
       "      <td>Bengaluru, Karnataka</td>\n",
       "      <td>Senior Data Scientist_EBM</td>\n",
       "      <td> Extensive experience as a data scientist.\\n...</td>\n",
       "      <td>Data Scientist</td>\n",
       "      <td>Bengaluru</td>\n",
       "      <td>Karnataka</td>\n",
       "      <td>NaN</td>\n",
       "    </tr>\n",
       "  </tbody>\n",
       "</table>\n",
       "</div>"
      ],
      "text/plain": [
       "     Unnamed: 0  Unnamed: 1                Date Company Name  \\\n",
       "0             0         NaN    Posted3 days ago  Bosch Group   \n",
       "65           65         NaN    Posted5 days ago  Bosch Group   \n",
       "69           69         NaN  Posted30+ days ago  Bosch Group   \n",
       "82           82         NaN    Posted5 days ago  Bosch Group   \n",
       "94           94         NaN    Posted5 days ago  Bosch Group   \n",
       "167         167         NaN  Posted30+ days ago  Bosch Group   \n",
       "186         186         NaN    Posted9 days ago  Bosch Group   \n",
       "\n",
       "                 Location                                          Job Title  \\\n",
       "0    Bengaluru, Karnataka  newData Scientist – AI / Deep Learning for Aut...   \n",
       "65   Bengaluru, Karnataka                                  newData Scientist   \n",
       "69   Bengaluru, Karnataka                Data Scientist / Sr. Data Scientist   \n",
       "82   Bengaluru, Karnataka                                  newData Scientist   \n",
       "94   Bengaluru, Karnataka               newData Scientist for Battery Domain   \n",
       "167  Bengaluru, Karnataka      BCAI - Data Scientist / Senior Data Scientist   \n",
       "186  Bengaluru, Karnataka                          Senior Data Scientist_EBM   \n",
       "\n",
       "                                           Description             JOB  \\\n",
       "0    3.Most importantly – data aptitude.\\n1.Looking...  Data Scientist   \n",
       "65   Able to understand various data structures and...  Data Scientist   \n",
       "69   Proven track record and experience with statis...  Data Scientist   \n",
       "82   Able to understand various data structures and...  Data Scientist   \n",
       "94   Ø Passionate to solve engineering problems usi...  Data Scientist   \n",
       "167  Mine and analyze data, applying statistical me...  Data Scientist   \n",
       "186   Extensive experience as a data scientist.\\n...  Data Scientist   \n",
       "\n",
       "    Location.1       State Unnamed: 10  \n",
       "0    Bengaluru   Karnataka         NaN  \n",
       "65   Bengaluru   Karnataka         NaN  \n",
       "69   Bengaluru   Karnataka         NaN  \n",
       "82   Bengaluru   Karnataka         NaN  \n",
       "94   Bengaluru   Karnataka         NaN  \n",
       "167  Bengaluru   Karnataka         NaN  \n",
       "186  Bengaluru   Karnataka         NaN  "
      ]
     },
     "execution_count": 5,
     "metadata": {},
     "output_type": "execute_result"
    }
   ],
   "source": [
    "df[df['Company Name']=='Bosch Group']"
   ]
  },
  {
   "cell_type": "code",
   "execution_count": 6,
   "id": "089c3e72",
   "metadata": {},
   "outputs": [],
   "source": [
    "dict1 = {'Company Name': df['Company Name'].unique()}"
   ]
  },
  {
   "cell_type": "code",
   "execution_count": 8,
   "id": "311963cc",
   "metadata": {},
   "outputs": [],
   "source": [
    "df.Description = df.Description.str.replace(',','')"
   ]
  },
  {
   "cell_type": "code",
   "execution_count": 9,
   "id": "44c75af5",
   "metadata": {},
   "outputs": [],
   "source": [
    "df.Description = df.Description.str.replace('\\n1','')"
   ]
  },
  {
   "cell_type": "code",
   "execution_count": 10,
   "id": "df1e24ae",
   "metadata": {},
   "outputs": [
    {
     "name": "stderr",
     "output_type": "stream",
     "text": [
      "C:\\Users\\NIhar\\AppData\\Local\\Temp/ipykernel_15916/1931597122.py:1: FutureWarning: The default value of regex will change from True to False in a future version.\n",
      "  df.Description = df.Description.str.replace('.\\n','')\n"
     ]
    }
   ],
   "source": [
    "df.Description = df.Description.str.replace('.\\n','')"
   ]
  },
  {
   "cell_type": "code",
   "execution_count": 11,
   "id": "e7ceb570",
   "metadata": {},
   "outputs": [],
   "source": [
    "df.Description = df.Description.str.replace('-','')"
   ]
  },
  {
   "cell_type": "code",
   "execution_count": 12,
   "id": "ee176165",
   "metadata": {},
   "outputs": [],
   "source": [
    "python = []\n",
    "for i in df.Description.str.split():\n",
    "        if 'python' in i or 'Python' in i:\n",
    "            python.append(1)\n",
    "        else:\n",
    "            python.append(0) "
   ]
  },
  {
   "cell_type": "code",
   "execution_count": 13,
   "id": "4ca6df14",
   "metadata": {},
   "outputs": [],
   "source": [
    "NLP = []\n",
    "for i in df.Description.str.split():\n",
    "        if 'NLP' in i or 'nlp' in i:\n",
    "            NLP.append(1)\n",
    "        else:\n",
    "            NLP.append(0)"
   ]
  },
  {
   "cell_type": "code",
   "execution_count": 14,
   "id": "4b96e248",
   "metadata": {},
   "outputs": [],
   "source": [
    "ML = []\n",
    "for i in df.Description.str.split():\n",
    "        if 'ML' in i or 'ml' in i or 'machine' in i:\n",
    "            ML.append(1)\n",
    "        else:\n",
    "            ML.append(0)"
   ]
  },
  {
   "cell_type": "code",
   "execution_count": 15,
   "id": "1685582a",
   "metadata": {},
   "outputs": [],
   "source": [
    "AI = []\n",
    "for i in df.Description.str.split():\n",
    "        if 'AI' in i or 'Ai' in i or 'Artificial intelligence' in i:\n",
    "            AI.append(1)\n",
    "        else:\n",
    "            AI.append(0)"
   ]
  },
  {
   "cell_type": "code",
   "execution_count": 16,
   "id": "c8a59547",
   "metadata": {},
   "outputs": [],
   "source": [
    "DL = []\n",
    "for i in df.Description.str.split():\n",
    "        if 'DL' in i or 'DL' in i:\n",
    "            DL.append(1)\n",
    "        else:\n",
    "            DL.append(0)"
   ]
  },
  {
   "cell_type": "code",
   "execution_count": 17,
   "id": "c49f7373",
   "metadata": {},
   "outputs": [],
   "source": [
    "SQL = []\n",
    "for i in df.Description.str.split():\n",
    "        if 'SQL' in i or 'SQL' in i:\n",
    "            SQL.append(1)\n",
    "        else:\n",
    "            SQL.append(0)"
   ]
  },
  {
   "cell_type": "code",
   "execution_count": 18,
   "id": "6ee2f686",
   "metadata": {},
   "outputs": [],
   "source": [
    "R = []\n",
    "for i in df.Description.str.split():\n",
    "        if 'R' in i or 'R' in i:\n",
    "            R.append(1)\n",
    "        else:\n",
    "            R.append(0)"
   ]
  },
  {
   "cell_type": "code",
   "execution_count": 19,
   "id": "300d60aa",
   "metadata": {},
   "outputs": [],
   "source": [
    "Statistics = []\n",
    "for i in df.Description.str.split():\n",
    "        if 'Statistics' in i or 'Statistics' in i:\n",
    "            Statistics.append(1)\n",
    "        else:\n",
    "            Statistics.append(0)"
   ]
  },
  {
   "cell_type": "code",
   "execution_count": 20,
   "id": "2c4002ec",
   "metadata": {},
   "outputs": [],
   "source": [
    "degree = []\n",
    "for i in df.Description.str.split():\n",
    "        if 'Bachelor' in i or 'Master' in i:\n",
    "            degree.append(1)\n",
    "        else:\n",
    "            degree.append(0)"
   ]
  },
  {
   "cell_type": "code",
   "execution_count": 21,
   "id": "cbec240f",
   "metadata": {},
   "outputs": [
    {
     "data": {
      "text/plain": [
       "985"
      ]
     },
     "execution_count": 21,
     "metadata": {},
     "output_type": "execute_result"
    }
   ],
   "source": [
    "len(ML)"
   ]
  },
  {
   "cell_type": "code",
   "execution_count": 22,
   "id": "710a2721",
   "metadata": {},
   "outputs": [
    {
     "data": {
      "text/plain": [
       "113"
      ]
     },
     "execution_count": 22,
     "metadata": {},
     "output_type": "execute_result"
    }
   ],
   "source": [
    "sum(ML)"
   ]
  },
  {
   "cell_type": "code",
   "execution_count": 23,
   "id": "1f09f1ee",
   "metadata": {},
   "outputs": [],
   "source": [
    "df[\"Python\"] = python\n",
    "df[\"NLP\"] = NLP\n",
    "df[\"ML\"] = ML\n",
    "df['Artificial Inteligence'] = AI\n",
    "df['DL'] = DL\n",
    "df['SQL'] = SQL\n",
    "df['R language'] = R\n",
    "df['Statistics'] = Statistics"
   ]
  },
  {
   "cell_type": "code",
   "execution_count": 24,
   "id": "8801b72f",
   "metadata": {},
   "outputs": [
    {
     "data": {
      "text/plain": [
       "Index(['Unnamed: 0', 'Unnamed: 1', 'Date', 'Company Name', 'Location',\n",
       "       'Job Title', 'Description', 'JOB', 'Location.1', 'State', 'Unnamed: 10',\n",
       "       'Python', 'NLP', 'ML', 'Artificial Inteligence', 'DL', 'SQL',\n",
       "       'R language', 'Statistics'],\n",
       "      dtype='object')"
      ]
     },
     "execution_count": 24,
     "metadata": {},
     "output_type": "execute_result"
    }
   ],
   "source": [
    "df.columns"
   ]
  },
  {
   "cell_type": "code",
   "execution_count": 25,
   "id": "132b7bec",
   "metadata": {},
   "outputs": [],
   "source": [
    "df = df.drop(['Unnamed: 0', 'Unnamed: 1','Unnamed: 10'],axis = 1)"
   ]
  },
  {
   "cell_type": "code",
   "execution_count": 26,
   "id": "e4f45bb5",
   "metadata": {},
   "outputs": [
    {
     "data": {
      "text/plain": [
       "Index(['Date', 'Company Name', 'Location', 'Job Title', 'Description', 'JOB',\n",
       "       'Location.1', 'State', 'Python', 'NLP', 'ML', 'Artificial Inteligence',\n",
       "       'DL', 'SQL', 'R language', 'Statistics'],\n",
       "      dtype='object')"
      ]
     },
     "execution_count": 26,
     "metadata": {},
     "output_type": "execute_result"
    }
   ],
   "source": [
    "df.columns"
   ]
  },
  {
   "cell_type": "code",
   "execution_count": 112,
   "id": "33ecee48",
   "metadata": {},
   "outputs": [],
   "source": [
    "df.to_csv('cleaning.csv')"
   ]
  },
  {
   "cell_type": "code",
   "execution_count": 27,
   "id": "7a5ee11f",
   "metadata": {},
   "outputs": [],
   "source": [
    "data = pd.read_csv(r\"C:\\Users\\NIhar\\Downloads\\clean004.csv\")"
   ]
  },
  {
   "cell_type": "code",
   "execution_count": 28,
   "id": "802e5b28",
   "metadata": {},
   "outputs": [
    {
     "data": {
      "text/html": [
       "<div>\n",
       "<style scoped>\n",
       "    .dataframe tbody tr th:only-of-type {\n",
       "        vertical-align: middle;\n",
       "    }\n",
       "\n",
       "    .dataframe tbody tr th {\n",
       "        vertical-align: top;\n",
       "    }\n",
       "\n",
       "    .dataframe thead th {\n",
       "        text-align: right;\n",
       "    }\n",
       "</style>\n",
       "<table border=\"1\" class=\"dataframe\">\n",
       "  <thead>\n",
       "    <tr style=\"text-align: right;\">\n",
       "      <th></th>\n",
       "      <th>Company Name</th>\n",
       "      <th>Location</th>\n",
       "      <th>Job Title</th>\n",
       "      <th>Description</th>\n",
       "      <th>JOB</th>\n",
       "      <th>Location.1</th>\n",
       "      <th>State</th>\n",
       "      <th>Python</th>\n",
       "      <th>SQL</th>\n",
       "      <th>R language</th>\n",
       "      <th>Linux</th>\n",
       "      <th>0</th>\n",
       "      <th>Cloud</th>\n",
       "    </tr>\n",
       "  </thead>\n",
       "  <tbody>\n",
       "    <tr>\n",
       "      <th>0</th>\n",
       "      <td>Bosch Group</td>\n",
       "      <td>Bengaluru, Karnataka</td>\n",
       "      <td>newData Scientist – AI / Deep Learning for Aut...</td>\n",
       "      <td>3.Most importantly – data aptitude..Looking at...</td>\n",
       "      <td>Data Scientist</td>\n",
       "      <td>Bengaluru</td>\n",
       "      <td>Karnataka</td>\n",
       "      <td>0</td>\n",
       "      <td>0</td>\n",
       "      <td>0</td>\n",
       "      <td>0</td>\n",
       "      <td>0</td>\n",
       "      <td>AWS</td>\n",
       "    </tr>\n",
       "    <tr>\n",
       "      <th>1</th>\n",
       "      <td>Standard Chartered</td>\n",
       "      <td>Chennai, Tamil Nadu</td>\n",
       "      <td>newData Scientist, AIML</td>\n",
       "      <td>Manage a team dedicated for reviewing models r...</td>\n",
       "      <td>Data Scientist</td>\n",
       "      <td>Chennai</td>\n",
       "      <td>Tamil Nadu</td>\n",
       "      <td>1</td>\n",
       "      <td>0</td>\n",
       "      <td>0</td>\n",
       "      <td>1</td>\n",
       "      <td>0</td>\n",
       "      <td>AWS</td>\n",
       "    </tr>\n",
       "    <tr>\n",
       "      <th>2</th>\n",
       "      <td>Kaplan</td>\n",
       "      <td>Bengaluru, Karnataka</td>\n",
       "      <td>newAssociate Data Scientist</td>\n",
       "      <td>Collaborate and help other data scientistsExtr...</td>\n",
       "      <td>Data Scientist</td>\n",
       "      <td>Bengaluru</td>\n",
       "      <td>Karnataka</td>\n",
       "      <td>1</td>\n",
       "      <td>0</td>\n",
       "      <td>0</td>\n",
       "      <td>0</td>\n",
       "      <td>0</td>\n",
       "      <td>AWS</td>\n",
       "    </tr>\n",
       "    <tr>\n",
       "      <th>3</th>\n",
       "      <td>Corteva Agriscience</td>\n",
       "      <td>Hyderabad, Telangana</td>\n",
       "      <td>newAssociate Data Scientist</td>\n",
       "      <td>Leverage data science and data engineering res...</td>\n",
       "      <td>Data Scientist</td>\n",
       "      <td>Hyderabad</td>\n",
       "      <td>Telangana</td>\n",
       "      <td>1</td>\n",
       "      <td>0</td>\n",
       "      <td>0</td>\n",
       "      <td>1</td>\n",
       "      <td>0</td>\n",
       "      <td>AWS</td>\n",
       "    </tr>\n",
       "    <tr>\n",
       "      <th>4</th>\n",
       "      <td>UnitedHealth Group</td>\n",
       "      <td>Bengaluru, Karnataka</td>\n",
       "      <td>Assc Data Scientist</td>\n",
       "      <td>4.Must have experience in working with end to ...</td>\n",
       "      <td>Data Scientist</td>\n",
       "      <td>Bengaluru</td>\n",
       "      <td>Karnataka</td>\n",
       "      <td>1</td>\n",
       "      <td>0</td>\n",
       "      <td>0</td>\n",
       "      <td>0</td>\n",
       "      <td>0</td>\n",
       "      <td>AWS</td>\n",
       "    </tr>\n",
       "  </tbody>\n",
       "</table>\n",
       "</div>"
      ],
      "text/plain": [
       "          Company Name              Location  \\\n",
       "0          Bosch Group  Bengaluru, Karnataka   \n",
       "1   Standard Chartered   Chennai, Tamil Nadu   \n",
       "2               Kaplan  Bengaluru, Karnataka   \n",
       "3  Corteva Agriscience  Hyderabad, Telangana   \n",
       "4   UnitedHealth Group  Bengaluru, Karnataka   \n",
       "\n",
       "                                           Job Title  \\\n",
       "0  newData Scientist – AI / Deep Learning for Aut...   \n",
       "1                            newData Scientist, AIML   \n",
       "2                        newAssociate Data Scientist   \n",
       "3                        newAssociate Data Scientist   \n",
       "4                                Assc Data Scientist   \n",
       "\n",
       "                                         Description             JOB  \\\n",
       "0  3.Most importantly – data aptitude..Looking at...  Data Scientist   \n",
       "1  Manage a team dedicated for reviewing models r...  Data Scientist   \n",
       "2  Collaborate and help other data scientistsExtr...  Data Scientist   \n",
       "3  Leverage data science and data engineering res...  Data Scientist   \n",
       "4  4.Must have experience in working with end to ...  Data Scientist   \n",
       "\n",
       "  Location.1        State  Python  SQL  R language  Linux  0 Cloud  \n",
       "0  Bengaluru    Karnataka       0    0           0      0  0   AWS  \n",
       "1    Chennai   Tamil Nadu       1    0           0      1  0   AWS  \n",
       "2  Bengaluru    Karnataka       1    0           0      0  0   AWS  \n",
       "3  Hyderabad    Telangana       1    0           0      1  0   AWS  \n",
       "4  Bengaluru    Karnataka       1    0           0      0  0   AWS  "
      ]
     },
     "execution_count": 28,
     "metadata": {},
     "output_type": "execute_result"
    }
   ],
   "source": [
    "data.head()"
   ]
  },
  {
   "cell_type": "code",
   "execution_count": 29,
   "id": "c7cca811",
   "metadata": {},
   "outputs": [],
   "source": [
    "## Manually collected Data \n",
    "data1 = pd.read_csv(r\"C:\\Users\\NIhar\\Downloads\\Untitled spreadsheet - Sheet1.csv\")"
   ]
  },
  {
   "cell_type": "code",
   "execution_count": 30,
   "id": "94d432a3",
   "metadata": {},
   "outputs": [
    {
     "data": {
      "text/html": [
       "<div>\n",
       "<style scoped>\n",
       "    .dataframe tbody tr th:only-of-type {\n",
       "        vertical-align: middle;\n",
       "    }\n",
       "\n",
       "    .dataframe tbody tr th {\n",
       "        vertical-align: top;\n",
       "    }\n",
       "\n",
       "    .dataframe thead th {\n",
       "        text-align: right;\n",
       "    }\n",
       "</style>\n",
       "<table border=\"1\" class=\"dataframe\">\n",
       "  <thead>\n",
       "    <tr style=\"text-align: right;\">\n",
       "      <th></th>\n",
       "      <th>Company Name</th>\n",
       "      <th>Revenue</th>\n",
       "      <th>No of employee</th>\n",
       "    </tr>\n",
       "  </thead>\n",
       "  <tbody>\n",
       "    <tr>\n",
       "      <th>0</th>\n",
       "      <td>Bosch Group</td>\n",
       "      <td>$77.721 B</td>\n",
       "      <td>31000</td>\n",
       "    </tr>\n",
       "    <tr>\n",
       "      <th>1</th>\n",
       "      <td>Standard Chartered</td>\n",
       "      <td>$14.701 B</td>\n",
       "      <td>85000</td>\n",
       "    </tr>\n",
       "    <tr>\n",
       "      <th>2</th>\n",
       "      <td>Kaplan</td>\n",
       "      <td>$1.3 B</td>\n",
       "      <td>12000</td>\n",
       "    </tr>\n",
       "    <tr>\n",
       "      <th>3</th>\n",
       "      <td>Corteva Agriscience</td>\n",
       "      <td>$14.271 B</td>\n",
       "      <td>21000</td>\n",
       "    </tr>\n",
       "    <tr>\n",
       "      <th>4</th>\n",
       "      <td>UnitedHealth Group</td>\n",
       "      <td>$285.1 B</td>\n",
       "      <td>300000</td>\n",
       "    </tr>\n",
       "  </tbody>\n",
       "</table>\n",
       "</div>"
      ],
      "text/plain": [
       "          Company Name    Revenue No of employee\n",
       "0          Bosch Group  $77.721 B          31000\n",
       "1   Standard Chartered  $14.701 B          85000\n",
       "2               Kaplan     $1.3 B          12000\n",
       "3  Corteva Agriscience  $14.271 B          21000\n",
       "4   UnitedHealth Group   $285.1 B         300000"
      ]
     },
     "execution_count": 30,
     "metadata": {},
     "output_type": "execute_result"
    }
   ],
   "source": [
    "data1.head()"
   ]
  },
  {
   "cell_type": "code",
   "execution_count": 31,
   "id": "55c49015",
   "metadata": {},
   "outputs": [],
   "source": [
    "data1['Revenue'] = data1[\"Revenue\"].fillna('0.0005')\n",
    "data1['No of employee'] = data1['No of employee'].fillna(20)"
   ]
  },
  {
   "cell_type": "code",
   "execution_count": 32,
   "id": "d31df8f4",
   "metadata": {
    "collapsed": true
   },
   "outputs": [
    {
     "name": "stdout",
     "output_type": "stream",
     "text": [
      "{'Bosch Group': '$77.721 B', 'Standard Chartered': '$14.701 B', 'Kaplan': '$1.3 B', 'Corteva Agriscience': '$14.271 B', 'UnitedHealth Group': '$285.1 B', 'HP': '$56.64 B', 'Deloitte': '$50.2 B', 'JPMorgan Chase Bank, N.A.': '$119.54 B', '3SC Solutions': '$0.055 B', 'Orange Business Services': '$8.41 B', 'Maersk': '$39 B', 'Jumio Corporation': '0.0005', 'Expleo': '$1.5 B', 'Microland': '$7.62 B', 'Onward Group': '$0.03 B', 'Smiths Detection': '$2.793 B', 'DBS Bank': '$10.28 B', 'Indium Software': '$0.0773 B', 'Narayana Health': '$0.42 B', 'citius tech': '$0.2 B', 'AIBridge ML': '$0.05 B', 'Confluent': '$338.3 B', 'MasterCard': '$18.88 B', 'Qualfon': '$0.4 B', 'Kyndryl': '$18.6 B', 'Ecolab': '$14.9 B', 'Unilever': '$52.444 B', 'Hewlett Packard Enterprise': '$2 B', 'Global Industrial': '$1.26 B', 'EY': '$40 B', 'Sutherland': '$1.1B', 'Oracle': '$40.47 B', 'Societe Generale': '$6.44 B', 'dunnhumby': '$0.444 B', 'Coinbase': '$1.14 B', 'Visa': '$21.85 B', 'HDFC Life': '$0.22 B', 'Bolt': '$0.221 B', 'umlaut AG': '$0.476 B', 'Fractal.ai': '$0.1 B', 'Tredence': '$0.0302 B', 'Casepoint Pvt. Ltd.': '$0.1909 B', 'Honeywell': '$32.392 B', 'Intel': '$79.02 B', 'Cliksource': '$ 0.5 B', 'Jacobs': '$ 13,47 B', 'Cummins Inc.': '$ 23.571 B', 'CGI Inc': '$ 12.16 B', 'Philips': '$ 22.19 B', 'SAP': '$ 0.030859 B', 'CityLink Technology Solutions': '$ 0.005 B', 'BNY Mellon': '$ 20.82 B', 'Sofar Ocean': '$ 0.002 B', 'Walmart Global Tech India': '$ 40.65 B', 'Oportun Inc': '$ 0.583 B', 'Crowe': '$ 44 B', 'Cygnet Infotech': '$0.1521B', 'Uber': '$ 1.13 B', 'Vistex Asia-Pacific Private Ltd.': '$ 0.250 B', 'Signify': '$2.008 B', 'NatWest Group': '$ 4.14 B', 'Apple': '$ 365.82 B', 'Amex': '$ 36.09 B', 'Beinex': '$ 0.018 B', 'Kwalee': '$ 0.0283 B', 'Mercedes-Benz Group AG': '$ 1600 B', 'MABZONE IT SOLUTIONS': '$ 0.005 B', 'Paktolus': '$ 0.044 B', 'Ford Global Business Services': '$ 127 B', 'GE Aviation': '$ 74.19 B', 'Shell': '$ 26.150 B', 'Lam Research': '$ 4.2266 B', 'IBM': '$5.735 B', 'The Luxury Closet': '$0.009 B', 'Microsoft': '$ 168 B', 'Postman': '$ 0.815 B', 'Vodafone': '$ 50.011 B', 'Boston Consulting Group': '$ 8.60 B', 'RedSeer Management Consulting': '$ 0.006 B', 'Brose': '$ 1.89 B', 'Maruti Suzuki India Ltd': '$ 10 B', 'BD': '$ 17.117 B', 'Canum Infotech': '$ 0.0005 B', 'thyssenkrupp India Pvt. Ltd.': '$ 32.384 B', 'Cyient': '$0.570 B', 'Snowflake': '$0.592 B', 'Agoda Company': '$ 1.5 B', 'ExxonMobil': '$181.502 B', 'Morgan Stanley': '$14.5 B', 'Alstom': '$ 5.11 B', 'GSK': '$ 11.644 B', 'Delhivery': '$0.075 B', 'Open Insights': '0.0005', 'Netradyne': '$ 13.47 B', 'Atlassian': '$ 23.571 B', 'IHS Markit': '$ 12.16 B', 'Klevu Oy': '$ 22.19 B', 'Airtel India': '$ 30.859 B', 'PubMatic': '$ 0.005 B', 'Blackbuck': '$ 20.82 B', 'Infosys Limited': '$ 14 B', 'Tekion': '$ 0.576 B', 'mPokket': '$ 0.013 B', 'Michelin': '$ 26.015 B', 'Amazon Dev Center India - Hyd': '$5 B', 'GO-JEK': '$0.086 B', 'Autodesk': '$3.79 B', 'HGS': '$0.753 B', 'Ignitarium Technology Solutions': '$0.0536 B', 'Elsevier': '$3.95 B', 'S&P Global': '$6.036 B', 'Blinkit': '$0.3 B', 'McAfee Enterprise': '$2.906 B', 'Surya Systems': '$0.008 B', 'Assurant': '$10.094 B', 'Ayla Networks': '$0.021 B', 'Qualys': '$0.363 B', 'Clariant': '$6.623 B', 'QuestAlliance': '$0.007 B', 'Siemens': '$70.67 B', 'Exapas': '0.0005', 'Medtronic': '$30.117 B', 'ArrayGen Technologies': '$0.005 B', 'ADCI - Karnataka': '0.0005', 'Dell Technologies': '$94.24 B', 'Micron': '$21.44 B', 'Tesco': '$78.80 B', 'GD Research Center': '$0.153 B', 'NTT DATA': '$20.12 B', 'ZF': '$41.45 B', 'Syneos Health Clinical': '$4.676 B', 'Bayer': '41.4 B', 'Kimberly-Clark': '0.0005', 'Spiceworks': '$0.05B', 'Texas Instruments': '0.0005', 'Myntra.com': '$17.19B', 'Collins Aerospace': '$6.83B', 'iSOCRATES': '$0.013B', 'Aptus Data LAbs': '$0.023B', 'Cashify': '$0.015B', 'Niramai': '$0.0226B', 'WHITE FORCE OUTSOURCING SERVICES PRIVATE LIMITED': '0.0005', 'Mobiquity': '$0.07B', 'Siemens Technology and Services Private Limited': '0.0005', 'Impiger Technologies': '0.0005', 'AISPL - Karnataka': '0.0005', 'PayPal': '$25.37B', 'Schneider Electric': '0.0005', 'Accenture': '$44B', 'Ola Cabs': '$0.34B', 'Great Learning': '$0.043B', 'Wells Fargo': '0.0005', 'Acuity Knowledge Partners': '0.0005', 'IQVIA': '$3.298B', 'RealPage': '$1.16B', 'Dun & Bradstreet': '0.0005', 'HERE Technologies': '0.0005', 'Coursera': '$0.2935B', 'State Street': '$11.7B', 'Harman International': '0.0005', 'WishFin': '$0.0464B', 'NEC Opportunities': '0.0005', 'Institutional Shareholder Services': '0.0005', 'Expedia Group': '0.0005', 'BOEING': '0.0005', 'Lingaro Group': '0.0005', 'GE Digital': '0.0005', 'Paytm': '$0.14B', 'Pfizer': '$41.9B', 'LeadSquared': '0.0005', 'Inspirion Digital Solutions': '0.0005', 'GE Healthcare': '0.0005', 'Concentrix': '0.0005', 'RELX': '0.0005', 'Salesforce': '0.0005', 'Elpis IT Solutions': '0.0005', 'Tala': '0.0005', 'Eclerx': '0.0005', 'Fundnel Pte Ltd': '0.0005', 'Careator Technologies': '0.0005', 'Deal4loans': '0.0005', 'AstraZeneca': '0.0005', 'VM3 Tech Solutions': '0.0005', 'TeamPlus Staffing Solution Pvt Ltd': '0.0005', 'HR Inc Consultants': '0.0005', 'QSSOT Technology': '0.0005', 'Transorg Analytics': '0.0005', 'Baker Hughes': '0.0005', 'IHCC': '0.0005', 'GenieTalk': '0.0005', 'Nihilent': '0.0005', 'Zscaler': '0.0005', 'MobiKwik': '0.0005', 'Technovert': '0.0005', 'Toluna': '0.0005', 'SoulPage IT Solutions': '0.0005', 'Rockwell Automation': '0.0005', 'Apptio': '0.0005', 'Acesoft Labs': '0.0005', 'UBS': '0.0005', 'Dexlock': '0.0005', 'Ninjacart': '0.0005', 'PAGO Analytics': '0.0005', 'Ameriprise Financial': '0.0005', 'ADCI HYD 13 SEZ': '0.0005', 'Danaher Digital': '0.0005', 'Henkel': '0.0005', 'Sanofi': '0.0005', 'Groupon': '0.0005', 'NielsenIQ': '0.0005', 'Ormae': '0.0005', 'XenonStack': '0.0005', 'Citi': '0.0005', 'Aspire Systems': '0.0005', 'ALTIMETRIK Inc': '0.0005', 'Country Veggie': '0.0005', 'Travel Centric Technology': '0.0005', 'iCliniq': '0.0005', 'Scienaptic Systems': '0.0005', 'Affine': '0.0005', 'PwC': '0.0005', 'Cargill': '0.0005', 'AppsTek Corp': '0.0005', 'Verizon': '0.0005', 'Atlas Copco (India) Ltd.': '0.0005', 'Nissan': '0.0005', 'VMock Inc': '0.0005', 'StratLytics': '0.0005', 'SearchUrCollege': '0.0005', 'Entytle': '0.0005', 'TomTom': '$0.759B', 'ITOrizon': '$0.021B', 'Tokopedia': '$28.6B', 'BMC Software': '$2B', 'Imurgence': '0.0005', 'Swiggy': '$0.37B', 'ZL Technologies': '0.0005', 'Kpler': '$0.036B', 'PhonePe': '$6.9B', 'Mount Talent Consulting': '0.0005', 'Adobe': '$12.86B', 'Goldman Sachs': '$44.6B', 'Merkle': '$1B', '2COMs': '0.0005', 'Medline Industries': '0.0005', 'Hitachi Vantara Corporation': '0.0005', 'Codelogicx Technologies Private Limited': '0.0005', 'Vodafone Idea': '0.0005', 'CustomerXPs': '0.0005', 'ValueLabs': '$0.9189B', 'Novartis': '$49.89B', 'StatusNeo Technology Consulting': '0.0005', 'Gridlogic': '0.0005', 'Intuit': '$9.633B', 'Kanini Software Solutions': '0.0005', 'Indian Institute of Digital Education': '0.0005', 'Credit Suisse': '0.0005', 'Innoplexus': '0.0005', 'Crimson Interactive': '0.0005', 'PREZENTIUM': '0.0005', 'Colgate-Palmolive': '$15.693B', 'Couche-Tard': '$45.76B', 'CTD Techs': '0.0005', 'Yara': '$14.44B', 'Claim Genius Making touchless claims a reality': '0.0005', 'Sybrant Data': '$0.024B', 'ABB': '$28.9B', 'Ericsson': '0.0005', 'Blue Yonder': '0.0005', '[24]7.ai': '0.0005', 'Sony India Software Centre Pvt Ltd': '0.0005', 'Hella': '$7B', 'VMware': '$11.78B', 'HDFC Bank': '$16B', 'Khoros': '$0.2B', 'mediaagility': '0.0005', 'Spotflock': '0.0005', 'Bain & Company': '0.0005', 'KPIT Technologies GmbH': '$0.291 B', 'Impact Guru': '0.0005', 'Crypto Mize': '$0.002 B', 'Dunzo': '$0.137 B', 'Unisys': '$2 B', 'AT&T': '$168 B', 'Innefu Labs Pvt. Ltd.': '$0.003 B', 'EVC Ventures': '0.062 B', 'West Pharmaceutical Services': '$2 B', 'The Neotia University': '0.0005', 'Wavemaker': '$2 B', 'CareerXperts': '$0.0035 B', 'Pivotchain Solution Technologies': '$0.0025 B', 'Aspire HR Solutions': '$0.015 B', 'Information Services Group': '$0.265 B', 'DeepQuanty Artificial Intelligence Labs': '$0.003 B', 'iGloble Solutions': '$0.004 B', 'The Walt Disney Company (Corporate)': '$67.418 B', 'TARGET': '$99.6 B', 'Kovai.co': '$0.001 B', 'Google': '$256.74 B', 'Innominds Software': '$ 0.005 B', 'Krea University': '$0.018 B', 'LatentBridge': '$ 0.0005 B', 'Logitech': '$5.252 B', 'BDB': '$0.0086 B', 'GLOINNT': '$0.0226 B', 'Wise Monk': '$0.06 B', 'Techvantage Systems': '$0.015 B', 'ZS': '$2 B', 'Bid Ocean': '$0.05 B', 'Truedge Software Solutions': '$ 0.5 B', 'Grid Logic Software Private Limited': '$0.0045 B', 'PharmaACE': '$0.071 B', 'Joveo': '$0.020 B', 'Cybage': '$1 B', 'Fidelity Investments': '$21 B', 'Emerson': '$18 B', 'Credit Saison': '$0.414 B', 'Upstox': '$0.4568 B', 'RedLotus': '$0.0039 B', 'General Mills': '$18 B', 'Ryan, LLC': '$0.446 B', 'Radware': '$0.25 B', 'Shivark': '0.0005', 'FIS Global': '$12 B', 'Samyak Infotech': '$0.022 B', 'Zauba Corp': '0.0005', 'Technovatrix': '0.0005', 'Aligned Automation': '$0.024 B', 'Linkites': '$0.02 B', '2basetechnologies': '$0.012 B', 'ADCI PNQ 13 SEZ': '0.0005', 'Eli Lilly': '$27 B', 'Exeliq Consulting': '$0.004 B', 'PepsiCo': '$70.37 B', 'AWS ProServe IN - Karnataka': '0.0005', 'Aruba Networks': '$3 B', 'ZunRoof Tech': '$0.007 B', 'ERM Group': '$1 B', 'Genpact': '$3.70 B', 'Thomson Reuters': '$6 B', 'Techlive': '$0.007 B', 'Carlson Wagonlit Travel': '$1.5 B ', 'Monotype': '$0.126 B', 'Knight FinTech': '$0.017 B', 'Prompt Softech': '$0.024 B', 'GE Renewable Energy': '$10.3 B', 'FactSet Research Systems': '$1.49 B', 'Trane Technologies': '$12.454 B', 'EDGE Networks': '$0.0158 B', 'Augusta Infotech': '$0.005 B', 'OptiSol': '$0.026 B', 'Tavant Technologies': '$0.223 B', 'ITH Technologies': '0.0005', 'Affinity Express': '$0.012 B', 'Icertis': '$ 0.165 B', 'Zebra Technologies': '$4.448 B', 'CRED': '$0.000069 B', 'Applogic': '$0.005 B', 'Mercedes-Benz Research and Development India...': '$0.739 B', 'Tookitaki': '$0.013 B', 'Supro info Solution': '$0.005 B', 'Aditya Birla Group': '$46 B', 'SMEcorner': '$0.03 B', 'CDM Smith': '$0.952 B', 'xtLytics': '$0.007 B', 'Siemens Healthineers India LLP': '16.41 B', 'Zippin': '$0.0052 B', 'NOVIQUE HEALTH': '$0.005 B', 'NeenOpal': '$0.00161 B', 'WSD Consultant': '$0.005 B', 'HSBC': '$50.429 B', 'Caterpillar': '$41.74 B', 'Axslogic': '$0.005 B', 'ServiceNow': '$4.51 B', 'Perfios': '$0.0369 B', 'TheMathCompany': '$0.0206 B', 'Alpha ICT LLP': '$0.005 B', 'Happymonk Technology': '$ 0.0005 B', 'Randstad': '$27.02 B', 'TIGI HR SOLUTION': '$0.005 B', 'Deutsche Bank': '$113.49 B', 'Weatherford': '$3.685 B', 'Helius Technologies': '$0.26 B', 'D Cube Analytics': '$0.034 B', 'BigTapp': '$0.005 B', 'Prevalent AI': '$0.05 B', 'NSEIT': '$ 0.5 B', 'GlobalLogic': '$0.850 B', 'MSCI Inc': '$1.69 B', 'Infosenseglobal': '0.0005 B', 'FinAcPlus': '$0.0175 B', 'RGF Professional Recruitment': '$0.02 B', 'Radware Bot Manager': '$0.216 B', 'IDfy': '$0.083 B', 'Turbolab Technologies': '$0.0078 B', 'Sequretek': '$0.034 B', 'HighRadius': '$0.25 B', 'Ruby Seven Studios': '$0.023 B', 'KlearNow': '$0.0112 B', 'Talentica Software India': '$0.35 B', 'Wolters Kluwer': '$5.22 B', 'ASSPL - Karnataka': '$ 0.0005 B', 'IQLECT': '$ 0.0005 B', 'Seagate Technology': '10.68 B', 'Oi': '$61B', \"Assassin's Creed\": '$1B', 'Vymo': '$0.0291B', 'Talent Leads HR Solutions': '0.0005', 'OakNorth Bank': '$0.0772B', 'The Smart Cube': '$0.02B', 'Buckman': '$0.816B', 'Near': '$0.0226B', 'Navit Software Solutions': '$ 0.0005 B', 'Payoda': '$0.315B', 'Tekolutions.ai': '0.0005', 'Protocolzone': '0.0005', 'Siemens Healthineers': '$ 14.46 B', 'Bajaj FinServ': '$7.2B', 'Infognana IG Solution': '$0.63 B', 'Alliance Recruitment Agency': '0.0005', 'PNR Software Solutions': '$0.023B', 'Mojocare, Alpha Digital Health': '0.0005', 'Juniper Networks': '$5B', 'AutomationEdge': '$0.0313B', 'Indicia Worldwide': '0.0005', 'BluePi Consulting Pvt Ltd.': '$ 0.016 B', 'Cardinal Health': '$162.47B', 'Amrita University': '$0.196B', 'Business Brio': '$0.0005 B', 'Anlage Infotech': '$0.02B', 'Commvault': '$0.7235B', 'Emerging India Group': '$ 0.0005 B', 'ARi': '$0.908B', 'Appriffy-Digital IT Hub': '$ 0.005 B', 'VN SoftSol': '$ 0.0005 B', 'Foghorn Systems': '$0.0133B', 'e-con Systems': '$0.025B', 'QuEST Global Engineering': '$ 0.05 B', 'UiPath': '$0.209B', 'Danfoss': '$ 7 B', 'GridEdge Technologies': '$ 0.0005 B', 'EATON': '$17.86B', 'Mind Works Global': '$0.017B', 'Squalas': '$0.00005 B', 'scaleorg': '$0.005 B', 'Michael Page': '$2B', 'ViaSat': '$2.30000000000003B', 'Aera Technology': '$0.0655B', 'Pype': '$0.0138B', 'itForte': '$0.005 B ', 'Carrier': '$17.46B', 'Germane Analytics Pvt Ltd': '$0.005 B', 'XoriantË\\x90IN': '$0.25 B', 'DTCC': '$1.7844B', 'Talent Corner HR Services Pvt. Ltd.': '$0.014 B', 'Labcorp': '$13.9784B', 'Sigmoid, Bengaluru': '$0.049 B', 'Pathfinder Business Analysis': '$0.062B', 'Camsdata': '$0.005B', 'MNF MyNextFilm': '0.0015 B', 'M&G plc': '$ 0.518 B', 'Wissen Technology': '$0.0605 B', 'CrossML': '$0.1108 B', 'CoreStack': '0.01639 B', 'Accrete.AI': '$0.011 B', 'GE Corporate': '$74.196 B', 'KPMG': '$14.3B', 'iMerit': '$ 0.0235 B', 'Jubna': '$0.016 B'}\n"
     ]
    }
   ],
   "source": [
    "d = {}\n",
    "for i in range(len(data1['Company Name'])):\n",
    "    \n",
    "        d[data1['Company Name'][i]] = data1[\"Revenue\"][i]\n",
    "print(d)"
   ]
  },
  {
   "cell_type": "code",
   "execution_count": 33,
   "id": "27ea4f2e",
   "metadata": {
    "collapsed": true
   },
   "outputs": [
    {
     "name": "stdout",
     "output_type": "stream",
     "text": [
      "{'Bosch Group': '31000', 'Standard Chartered': '85000', 'Kaplan': '12000', 'Corteva Agriscience': '21000', 'UnitedHealth Group': '300000', 'HP': '53000', 'Deloitte': '334800', 'JPMorgan Chase Bank, N.A.': '256105', '3SC Solutions': '221', 'Orange Business Services': '21000', 'Maersk': '83000', 'Jumio Corporation': '1085', 'Expleo': '15000', 'Microland': '4500', 'Onward Group': '2700', 'Smiths Detection': '14600', 'DBS Bank': '24174', 'Indium Software': '2000', 'Narayana Health': '11261', 'citius tech': '600', 'AIBridge ML': '30', 'Confluent': '1473', 'MasterCard': '24000', 'Qualfon': '16000', 'Kyndryl': '90000', 'Ecolab': '50000', 'Unilever': '149000', 'Hewlett Packard Enterprise': '59400', 'Global Industrial': '27', 'EY': '312250', 'Sutherland': '28856', 'Oracle': '132000', 'Societe Generale': '146000', 'dunnhumby': '3124', 'Coinbase': '1249', 'Visa': '20500', 'HDFC Life': '16544', 'Bolt': '3818', 'umlaut AG': '4500', 'Fractal.ai': '2500', 'Tredence': '1050', 'Casepoint Pvt. Ltd.': '635', 'Honeywell': '103000', 'Intel': '121100', 'Cliksource': '111', 'Jacobs': '55000', 'Cummins Inc.': '57,825', 'CGI Inc': '76,000', 'Philips': '21,483', 'SAP': '1,07,415', 'CityLink Technology Solutions': '25', 'BNY Mellon': '48,400', 'Sofar Ocean': '27', 'Walmart Global Tech India': '10,000', 'Oportun Inc': '1,474', 'Crowe': '4,440', 'Cygnet Infotech': '1,000', 'Uber': '22,800', 'Vistex Asia-Pacific Private Ltd.': '1,500', 'Signify': '37,000', 'NatWest Group': '59,900', 'Apple': '1,54,000', 'Amex': '63,700', 'Beinex': '30', 'Kwalee': '183', 'Mercedes-Benz Group AG': '1,73,000', 'MABZONE IT SOLUTIONS': '25', 'Paktolus': '43', 'Ford Global Business Services': '14,000', 'GE Aviation': '48,000', 'Shell': '86,000', 'Lam Research': '14,100', 'IBM': '2,70,000', 'The Luxury Closet': '193', 'Microsoft': '1,82,268', 'Postman': '858', 'Vodafone': '93,000', 'Boston Consulting Group': '21,000', 'RedSeer Management Consulting': '139', 'Brose': '25,000', 'Maruti Suzuki India Ltd': '19,945', 'BD': '76', 'Canum Infotech': '25', 'thyssenkrupp India Pvt. Ltd.': '1,03,598', 'Cyient': '10,000', 'Snowflake': '2,495', 'Agoda Company': '4,000', 'ExxonMobil': '72,000', 'Morgan Stanley': '60,000', 'Alstom': '75,000', 'GSK': '94,000', 'Delhivery': '66,000', 'Open Insights': 20, 'Netradyne': '55969', 'Atlassian': '56,261', 'IHS Markit': '56,553', 'Klevu Oy': '56,844', 'Airtel India': '57,136', 'PubMatic': '57427.22', 'Blackbuck': '57,719', 'Infosys Limited': '260000', 'Tekion': '1304', 'mPokket': '1400', 'Michelin': '127000', 'Amazon Dev Center India - Hyd': '15000', 'GO-JEK': '563', 'Autodesk': '11500', 'HGS': '41110', 'Ignitarium Technology Solutions': '289', 'Elsevier': '8600', 'S&P Global': '22500', 'Blinkit': '2000', 'McAfee Enterprise': '6900', 'Surya Systems': '45', 'Assurant': '14250', 'Ayla Networks': '142', 'Qualys': '1500', 'Clariant': '17901', 'QuestAlliance': '120', 'Siemens': '303000', 'Exapas': 20, 'Medtronic': '104950', 'ArrayGen Technologies': '25', 'ADCI - Karnataka': 20, 'Dell Technologies': '158000', 'Micron': '40000', 'Tesco': '367321', 'GD Research Center': '805', 'NTT DATA': '139500', 'ZF': '147797', 'Syneos Health Clinical': '23000', 'Bayer': '26000', 'Kimberly-Clark': 20, 'Spiceworks': '500', 'Texas Instruments': 20, 'Myntra.com': '1614', 'Collins Aerospace': '5000', 'iSOCRATES': '52', 'Aptus Data LAbs': '123', 'Cashify': '685', 'Niramai': '60', 'WHITE FORCE OUTSOURCING SERVICES PRIVATE LIMITED': 20, 'Mobiquity': '650', 'Siemens Technology and Services Private Limited': 20, 'Impiger Technologies': 20, 'AISPL - Karnataka': 20, 'PayPal': '26500', 'Schneider Electric': 20, 'Accenture': '150000', 'Ola Cabs': '3000', 'Great Learning': '2007', 'Wells Fargo': 20, 'Acuity Knowledge Partners': 20, 'IQVIA': '77000', 'RealPage': '10000', 'Dun & Bradstreet': 20, 'HERE Technologies': 20, 'Coursera': '1792', 'State Street': '5000', 'Harman International': 20, 'WishFin': '140', 'NEC Opportunities': 20, 'Institutional Shareholder Services': 20, 'Expedia Group': 20, 'BOEING': 20, 'Lingaro Group': 20, 'GE Digital': 20, 'Paytm': '11500', 'Pfizer': '78500', 'LeadSquared': 20, 'Inspirion Digital Solutions': 20, 'GE Healthcare': 20, 'Concentrix': 20, 'RELX': 20, 'Salesforce': 20, 'Elpis IT Solutions': 20, 'Tala': 20, 'Eclerx': 20, 'Fundnel Pte Ltd': 20, 'Careator Technologies': 20, 'Deal4loans': 20, 'AstraZeneca': 20, 'VM3 Tech Solutions': 20, 'TeamPlus Staffing Solution Pvt Ltd': 20, 'HR Inc Consultants': 20, 'QSSOT Technology': 20, 'Transorg Analytics': 20, 'Baker Hughes': 20, 'IHCC': 20, 'GenieTalk': 20, 'Nihilent': 20, 'Zscaler': 20, 'MobiKwik': 20, 'Technovert': 20, 'Toluna': 20, 'SoulPage IT Solutions': 20, 'Rockwell Automation': 20, 'Apptio': 20, 'Acesoft Labs': 20, 'UBS': 20, 'Dexlock': 20, 'Ninjacart': 20, 'PAGO Analytics': 20, 'Ameriprise Financial': 20, 'ADCI HYD 13 SEZ': 20, 'Danaher Digital': 20, 'Henkel': 20, 'Sanofi': 20, 'Groupon': 20, 'NielsenIQ': 20, 'Ormae': 20, 'XenonStack': 20, 'Citi': 20, 'Aspire Systems': 20, 'ALTIMETRIK Inc': 20, 'Country Veggie': 20, 'Travel Centric Technology': 20, 'iCliniq': 20, 'Scienaptic Systems': 20, 'Affine': 20, 'PwC': 20, 'Cargill': 20, 'AppsTek Corp': 20, 'Verizon': 20, 'Atlas Copco (India) Ltd.': 20, 'Nissan': 20, 'VMock Inc': 20, 'StratLytics': 20, 'SearchUrCollege': 20, 'Entytle': 20, 'TomTom': '4500', 'ITOrizon': '140', 'Tokopedia': '4700', 'BMC Software': '6000', 'Imurgence': 20, 'Swiggy': '11086', 'ZL Technologies': 20, 'Kpler': '150', 'PhonePe': '2500', 'Mount Talent Consulting': 20, 'Adobe': '11847', 'Goldman Sachs': '40500', 'Merkle': '14000', '2COMs': 20, 'Medline Industries': 20, 'Hitachi Vantara Corporation': 20, 'Codelogicx Technologies Private Limited': 20, 'Vodafone Idea': '13520', 'CustomerXPs': 20, 'ValueLabs': '5222', 'Novartis': '104323', 'StatusNeo Technology Consulting': 20, 'Gridlogic': '200', 'Intuit': '10600', 'Kanini Software Solutions': 20, 'Indian Institute of Digital Education': 20, 'Credit Suisse': 20, 'Innoplexus': 20, 'Crimson Interactive': 20, 'PREZENTIUM': 20, 'Colgate-Palmolive': '1130', 'Couche-Tard': '124000', 'CTD Techs': 20, 'Yara': '17000', 'Claim Genius Making touchless claims a reality': 20, 'Sybrant Data': '264', 'ABB': '105000', 'Ericsson': 20, 'Blue Yonder': 20, '[24]7.ai': 20, 'Sony India Software Centre Pvt Ltd': 20, 'Hella': '36000', 'VMware': '34000', 'HDFC Bank': '120093', 'Khoros': '1000', 'mediaagility': 20, 'Spotflock': 20, 'Bain & Company': 20, 'KPIT Technologies GmbH': '7125', 'Impact Guru': '68', 'Crypto Mize': '22', 'Dunzo': '669', 'Unisys': '17200', 'AT&T': '230000', 'Innefu Labs Pvt. Ltd.': '23', 'EVC Ventures': '293', 'West Pharmaceutical Services': '9200', 'The Neotia University': '94', 'Wavemaker': '7200', 'CareerXperts': '23', 'Pivotchain Solution Technologies': '24', 'Aspire HR Solutions': '90', 'Information Services Group': '1287', 'DeepQuanty Artificial Intelligence Labs': '21', 'iGloble Solutions': '22', 'The Walt Disney Company (Corporate)': '223000', 'TARGET': '40900', 'Kovai.co': '147', 'Google': '139995', 'Innominds Software': '50', 'Krea University': '140', 'LatentBridge': '25', 'Logitech': '9000', 'BDB': '80', 'GLOINNT': '70', 'Wise Monk': '40', 'Techvantage Systems': '35', 'ZS': '10000', 'Bid Ocean': '20', 'Truedge Software Solutions': '300', 'Grid Logic Software Private Limited': '25', 'PharmaACE': '325', 'Joveo': '100', 'Cybage': '6300', 'Fidelity Investments': '52000', 'Emerson': '86700', 'Credit Saison': '3575', 'Upstox': '2285', 'RedLotus': '21', 'General Mills': '33600', 'Ryan, LLC': '3000', 'Radware': '1122', 'Shivark': 20, 'FIS Global': '63000', 'Samyak Infotech': '118', 'Zauba Corp': 20, 'Technovatrix': 20, 'Aligned Automation': '125', 'Linkites': '108', '2basetechnologies': '69', 'ADCI PNQ 13 SEZ': 20, 'Eli Lilly': '34914', 'Exeliq Consulting': '22', 'PepsiCo': '309000', 'AWS ProServe IN - Karnataka': 20, 'Aruba Networks': '7000', 'ZunRoof Tech': '40', 'ERM Group': '5500', 'Genpact': '96500', 'Thomson Reuters': '24000', 'Techlive': '37', 'Carlson Wagonlit Travel': '18000', 'Monotype': '600', 'Knight FinTech': '80', 'Prompt Softech': '126', 'GE Renewable Energy': '205000', 'FactSet Research Systems': '10892', 'Trane Technologies': '50000', 'EDGE Networks': '109', 'Augusta Infotech': '25', 'OptiSol': '185', 'Tavant Technologies': '2500', 'ITH Technologies': '200', 'Affinity Express': '20', 'Icertis': '1700', 'Zebra Technologies': '8800', 'CRED': '839', 'Applogic': '25', 'Mercedes-Benz Research and Development India...': '3500', 'Tookitaki': '65', 'Supro info Solution': '25', 'Aditya Birla Group': '140000', 'SMEcorner': '300', 'CDM Smith': '5000', 'xtLytics': '39', 'Siemens Healthineers India LLP': '66000', 'Zippin': '77', 'NOVIQUE HEALTH': '25', 'NeenOpal': '30', 'WSD Consultant': '25', 'HSBC': '226059', 'Caterpillar': '97300', 'Axslogic': '26', 'ServiceNow': '15000', 'Perfios': '436', 'TheMathCompany': '867', 'Alpha ICT LLP': '25', 'Happymonk Technology': '20', 'Randstad': '38820', 'TIGI HR SOLUTION': '30', 'Deutsche Bank': '294', 'Weatherford': '17200', 'Helius Technologies': '183', 'D Cube Analytics': '188', 'BigTapp': '40', 'Prevalent AI': '600', 'NSEIT': '531', 'GlobalLogic': '2500', 'MSCI Inc': '40000', 'Infosenseglobal': '250', 'FinAcPlus': '139', 'RGF Professional Recruitment': '150', 'Radware Bot Manager': '1000', 'IDfy': '297', 'Turbolab Technologies': '51', 'Sequretek': '400', 'HighRadius': '1949', 'Ruby Seven Studios': '105', 'KlearNow': '10', 'Talentica Software India': '519', 'Wolters Kluwer': '19200', 'ASSPL - Karnataka': '20', 'IQLECT': '19', 'Seagate Technology': '40000', 'Oi': '2500', \"Assassin's Creed\": 20, 'Vymo': '316', 'Talent Leads HR Solutions': 20, 'OakNorth Bank': '229', 'The Smart Cube': '813', 'Buckman': 20, 'Near': '260', 'Navit Software Solutions': '20', 'Payoda': '628', 'Tekolutions.ai': 20, 'Protocolzone': 20, 'Siemens Healthineers': '66000', 'Bajaj FinServ': '26969', 'Infognana IG Solution': '326', 'Alliance Recruitment Agency': 20, 'PNR Software Solutions': '124', 'Mojocare, Alpha Digital Health': 20, 'Juniper Networks': '9000', 'AutomationEdge': '223', 'Indicia Worldwide': '1000', 'BluePi Consulting Pvt Ltd.': '70', 'Cardinal Health': '48000', 'Amrita University': '21', 'Business Brio': '20', 'Anlage Infotech': '109', 'Commvault': '2671', 'Emerging India Group': '20', 'ARi': '2298', 'Appriffy-Digital IT Hub': '50', 'VN SoftSol': '20', 'Foghorn Systems': '83', 'e-con Systems': '297', 'QuEST Global Engineering': '11250', 'UiPath': '3000', 'Danfoss': '37000', 'GridEdge Technologies': '20', 'EATON': '85000', 'Mind Works Global': '85', 'Squalas': '10', 'scaleorg': '25', 'Michael Page': '6750', 'ViaSat': '5800', 'Aera Technology': '465', 'Pype': '95', 'itForte': '25', 'Carrier': '56000', 'Germane Analytics Pvt Ltd': '25', 'XoriantË\\x90IN': '3000', 'DTCC': '4300', 'Talent Corner HR Services Pvt. Ltd.': '77', 'Labcorp': '72400', 'Sigmoid, Bengaluru': '425', 'Pathfinder Business Analysis': '321', 'Camsdata': '200', 'MNF MyNextFilm': '30', 'M&G plc': '6000', 'Wissen Technology': '746', 'CrossML': '50', 'CoreStack': '147', 'Accrete.AI': '82', 'GE Corporate': '168000', 'KPMG': '236000', 'iMerit': '2894', 'Jubna': '8'}\n"
     ]
    }
   ],
   "source": [
    "e = {}\n",
    "for i in range(len(data1['Company Name'])):\n",
    "    \n",
    "        e[data1['Company Name'][i]] = data1[\"No of employee\"][i]\n",
    "print(e)"
   ]
  },
  {
   "cell_type": "code",
   "execution_count": 34,
   "id": "07c6f2ee",
   "metadata": {},
   "outputs": [],
   "source": [
    "Revenuee = []\n",
    "No_of_employee = []\n",
    "for i in data['Company Name']:\n",
    "        Revenuee.append(d.get(i))\n",
    "        No_of_employee.append(e.get(i))"
   ]
  },
  {
   "cell_type": "code",
   "execution_count": 36,
   "id": "6a9a7424",
   "metadata": {},
   "outputs": [
    {
     "data": {
      "text/plain": [
       "985"
      ]
     },
     "execution_count": 36,
     "metadata": {},
     "output_type": "execute_result"
    }
   ],
   "source": [
    "len(Revenuee)"
   ]
  },
  {
   "cell_type": "code",
   "execution_count": 37,
   "id": "66b1ce08",
   "metadata": {},
   "outputs": [],
   "source": [
    "data['Revenue'] = Revenuee\n",
    "data['No of employee'] = No_of_employee"
   ]
  },
  {
   "cell_type": "code",
   "execution_count": 38,
   "id": "154c019d",
   "metadata": {
    "collapsed": true
   },
   "outputs": [
    {
     "data": {
      "text/html": [
       "<div>\n",
       "<style scoped>\n",
       "    .dataframe tbody tr th:only-of-type {\n",
       "        vertical-align: middle;\n",
       "    }\n",
       "\n",
       "    .dataframe tbody tr th {\n",
       "        vertical-align: top;\n",
       "    }\n",
       "\n",
       "    .dataframe thead th {\n",
       "        text-align: right;\n",
       "    }\n",
       "</style>\n",
       "<table border=\"1\" class=\"dataframe\">\n",
       "  <thead>\n",
       "    <tr style=\"text-align: right;\">\n",
       "      <th></th>\n",
       "      <th>Company Name</th>\n",
       "      <th>Location</th>\n",
       "      <th>Job Title</th>\n",
       "      <th>Description</th>\n",
       "      <th>JOB</th>\n",
       "      <th>Location.1</th>\n",
       "      <th>State</th>\n",
       "      <th>Python</th>\n",
       "      <th>SQL</th>\n",
       "      <th>R language</th>\n",
       "      <th>Linux</th>\n",
       "      <th>0</th>\n",
       "      <th>Cloud</th>\n",
       "      <th>Revenue</th>\n",
       "      <th>No of employee</th>\n",
       "    </tr>\n",
       "  </thead>\n",
       "  <tbody>\n",
       "    <tr>\n",
       "      <th>0</th>\n",
       "      <td>Bosch Group</td>\n",
       "      <td>Bengaluru, Karnataka</td>\n",
       "      <td>newData Scientist – AI / Deep Learning for Aut...</td>\n",
       "      <td>3.Most importantly – data aptitude..Looking at...</td>\n",
       "      <td>Data Scientist</td>\n",
       "      <td>Bengaluru</td>\n",
       "      <td>Karnataka</td>\n",
       "      <td>0</td>\n",
       "      <td>0</td>\n",
       "      <td>0</td>\n",
       "      <td>0</td>\n",
       "      <td>0</td>\n",
       "      <td>AWS</td>\n",
       "      <td>$77.721 B</td>\n",
       "      <td>31000</td>\n",
       "    </tr>\n",
       "    <tr>\n",
       "      <th>1</th>\n",
       "      <td>Standard Chartered</td>\n",
       "      <td>Chennai, Tamil Nadu</td>\n",
       "      <td>newData Scientist, AIML</td>\n",
       "      <td>Manage a team dedicated for reviewing models r...</td>\n",
       "      <td>Data Scientist</td>\n",
       "      <td>Chennai</td>\n",
       "      <td>Tamil Nadu</td>\n",
       "      <td>1</td>\n",
       "      <td>0</td>\n",
       "      <td>0</td>\n",
       "      <td>1</td>\n",
       "      <td>0</td>\n",
       "      <td>AWS</td>\n",
       "      <td>$14.701 B</td>\n",
       "      <td>85000</td>\n",
       "    </tr>\n",
       "    <tr>\n",
       "      <th>2</th>\n",
       "      <td>Kaplan</td>\n",
       "      <td>Bengaluru, Karnataka</td>\n",
       "      <td>newAssociate Data Scientist</td>\n",
       "      <td>Collaborate and help other data scientistsExtr...</td>\n",
       "      <td>Data Scientist</td>\n",
       "      <td>Bengaluru</td>\n",
       "      <td>Karnataka</td>\n",
       "      <td>1</td>\n",
       "      <td>0</td>\n",
       "      <td>0</td>\n",
       "      <td>0</td>\n",
       "      <td>0</td>\n",
       "      <td>AWS</td>\n",
       "      <td>$1.3 B</td>\n",
       "      <td>12000</td>\n",
       "    </tr>\n",
       "    <tr>\n",
       "      <th>3</th>\n",
       "      <td>Corteva Agriscience</td>\n",
       "      <td>Hyderabad, Telangana</td>\n",
       "      <td>newAssociate Data Scientist</td>\n",
       "      <td>Leverage data science and data engineering res...</td>\n",
       "      <td>Data Scientist</td>\n",
       "      <td>Hyderabad</td>\n",
       "      <td>Telangana</td>\n",
       "      <td>1</td>\n",
       "      <td>0</td>\n",
       "      <td>0</td>\n",
       "      <td>1</td>\n",
       "      <td>0</td>\n",
       "      <td>AWS</td>\n",
       "      <td>$14.271 B</td>\n",
       "      <td>21000</td>\n",
       "    </tr>\n",
       "    <tr>\n",
       "      <th>4</th>\n",
       "      <td>UnitedHealth Group</td>\n",
       "      <td>Bengaluru, Karnataka</td>\n",
       "      <td>Assc Data Scientist</td>\n",
       "      <td>4.Must have experience in working with end to ...</td>\n",
       "      <td>Data Scientist</td>\n",
       "      <td>Bengaluru</td>\n",
       "      <td>Karnataka</td>\n",
       "      <td>1</td>\n",
       "      <td>0</td>\n",
       "      <td>0</td>\n",
       "      <td>0</td>\n",
       "      <td>0</td>\n",
       "      <td>AWS</td>\n",
       "      <td>$285.1 B</td>\n",
       "      <td>300000</td>\n",
       "    </tr>\n",
       "  </tbody>\n",
       "</table>\n",
       "</div>"
      ],
      "text/plain": [
       "          Company Name              Location  \\\n",
       "0          Bosch Group  Bengaluru, Karnataka   \n",
       "1   Standard Chartered   Chennai, Tamil Nadu   \n",
       "2               Kaplan  Bengaluru, Karnataka   \n",
       "3  Corteva Agriscience  Hyderabad, Telangana   \n",
       "4   UnitedHealth Group  Bengaluru, Karnataka   \n",
       "\n",
       "                                           Job Title  \\\n",
       "0  newData Scientist – AI / Deep Learning for Aut...   \n",
       "1                            newData Scientist, AIML   \n",
       "2                        newAssociate Data Scientist   \n",
       "3                        newAssociate Data Scientist   \n",
       "4                                Assc Data Scientist   \n",
       "\n",
       "                                         Description             JOB  \\\n",
       "0  3.Most importantly – data aptitude..Looking at...  Data Scientist   \n",
       "1  Manage a team dedicated for reviewing models r...  Data Scientist   \n",
       "2  Collaborate and help other data scientistsExtr...  Data Scientist   \n",
       "3  Leverage data science and data engineering res...  Data Scientist   \n",
       "4  4.Must have experience in working with end to ...  Data Scientist   \n",
       "\n",
       "  Location.1        State  Python  SQL  R language  Linux  0 Cloud    Revenue  \\\n",
       "0  Bengaluru    Karnataka       0    0           0      0  0   AWS  $77.721 B   \n",
       "1    Chennai   Tamil Nadu       1    0           0      1  0   AWS  $14.701 B   \n",
       "2  Bengaluru    Karnataka       1    0           0      0  0   AWS     $1.3 B   \n",
       "3  Hyderabad    Telangana       1    0           0      1  0   AWS  $14.271 B   \n",
       "4  Bengaluru    Karnataka       1    0           0      0  0   AWS   $285.1 B   \n",
       "\n",
       "  No of employee  \n",
       "0          31000  \n",
       "1          85000  \n",
       "2          12000  \n",
       "3          21000  \n",
       "4         300000  "
      ]
     },
     "execution_count": 38,
     "metadata": {},
     "output_type": "execute_result"
    }
   ],
   "source": [
    "data.head()"
   ]
  },
  {
   "cell_type": "code",
   "execution_count": 39,
   "id": "70f26bfc",
   "metadata": {},
   "outputs": [
    {
     "data": {
      "text/plain": [
       "0    898\n",
       "1     87\n",
       "Name: 0, dtype: int64"
      ]
     },
     "execution_count": 39,
     "metadata": {},
     "output_type": "execute_result"
    }
   ],
   "source": [
    "data['0'].value_counts()"
   ]
  },
  {
   "cell_type": "code",
   "execution_count": 40,
   "id": "1d369d7f",
   "metadata": {},
   "outputs": [
    {
     "data": {
      "text/plain": [
       "Company Name       0\n",
       "Location           0\n",
       "Job Title          0\n",
       "Description        0\n",
       "JOB                0\n",
       "Location.1         0\n",
       "State             91\n",
       "Python             0\n",
       "SQL                0\n",
       "R language         0\n",
       "Linux              0\n",
       "0                  0\n",
       "Cloud              0\n",
       "Revenue            4\n",
       "No of employee     4\n",
       "dtype: int64"
      ]
     },
     "execution_count": 40,
     "metadata": {},
     "output_type": "execute_result"
    }
   ],
   "source": [
    "data.isnull().sum()"
   ]
  },
  {
   "cell_type": "code",
   "execution_count": 41,
   "id": "9363dfc9",
   "metadata": {},
   "outputs": [],
   "source": [
    "data['Revenue'] = data['Revenue'].fillna(0.0005)"
   ]
  },
  {
   "cell_type": "code",
   "execution_count": 42,
   "id": "60585bd0",
   "metadata": {},
   "outputs": [],
   "source": [
    "data['No of employee'] = data['No of employee'].fillna(20)"
   ]
  },
  {
   "cell_type": "code",
   "execution_count": 43,
   "id": "3ebb51f5",
   "metadata": {},
   "outputs": [
    {
     "data": {
      "text/plain": [
       "Company Name       0\n",
       "Location           0\n",
       "Job Title          0\n",
       "Description        0\n",
       "JOB                0\n",
       "Location.1         0\n",
       "State             91\n",
       "Python             0\n",
       "SQL                0\n",
       "R language         0\n",
       "Linux              0\n",
       "0                  0\n",
       "Cloud              0\n",
       "Revenue            0\n",
       "No of employee     0\n",
       "dtype: int64"
      ]
     },
     "execution_count": 43,
     "metadata": {},
     "output_type": "execute_result"
    }
   ],
   "source": [
    "data.isnull().sum()"
   ]
  },
  {
   "cell_type": "code",
   "execution_count": 44,
   "id": "e219b31b",
   "metadata": {},
   "outputs": [],
   "source": [
    "data['State']= data['State'].fillna('Bengaluru')"
   ]
  },
  {
   "cell_type": "code",
   "execution_count": 45,
   "id": "51a59f33",
   "metadata": {},
   "outputs": [
    {
     "data": {
      "text/plain": [
       "Company Name      0\n",
       "Location          0\n",
       "Job Title         0\n",
       "Description       0\n",
       "JOB               0\n",
       "Location.1        0\n",
       "State             0\n",
       "Python            0\n",
       "SQL               0\n",
       "R language        0\n",
       "Linux             0\n",
       "0                 0\n",
       "Cloud             0\n",
       "Revenue           0\n",
       "No of employee    0\n",
       "dtype: int64"
      ]
     },
     "execution_count": 45,
     "metadata": {},
     "output_type": "execute_result"
    }
   ],
   "source": [
    "data.isnull().sum()"
   ]
  },
  {
   "cell_type": "code",
   "execution_count": 46,
   "id": "7606ba07",
   "metadata": {},
   "outputs": [
    {
     "name": "stderr",
     "output_type": "stream",
     "text": [
      "C:\\Users\\NIhar\\AppData\\Local\\Temp/ipykernel_15916/2477723339.py:1: FutureWarning: The default value of regex will change from True to False in a future version. In addition, single character regular expressions will*not* be treated as literal strings when regex=True.\n",
      "  data['Revenue'] = data['Revenue'].str.replace('$','')\n"
     ]
    },
    {
     "data": {
      "text/plain": [
       "0      77.721\n",
       "1      14.701\n",
       "2         1.3\n",
       "3      14.271\n",
       "4       285.1\n",
       "        ...  \n",
       "980     0.016\n",
       "981      1.49\n",
       "982    0.0005\n",
       "983    119.54\n",
       "984     14.46\n",
       "Name: Revenue, Length: 985, dtype: object"
      ]
     },
     "execution_count": 46,
     "metadata": {},
     "output_type": "execute_result"
    }
   ],
   "source": [
    "data['Revenue'] = data['Revenue'].str.replace('$','')\n",
    "data['Revenue'] = data['Revenue'].str.replace('B','')\n",
    "data['Revenue'] = data['Revenue'].str.replace(' ','')\n",
    "data['Revenue']"
   ]
  },
  {
   "cell_type": "code",
   "execution_count": 59,
   "id": "cda09851",
   "metadata": {},
   "outputs": [],
   "source": [
    "data.to_csv('Final_data.csv')"
   ]
  },
  {
   "cell_type": "code",
   "execution_count": 47,
   "id": "3e05acc1",
   "metadata": {},
   "outputs": [],
   "source": [
    "df1 = pd.read_csv('Final_data.csv')"
   ]
  },
  {
   "cell_type": "code",
   "execution_count": 48,
   "id": "28d62242",
   "metadata": {},
   "outputs": [],
   "source": [
    "df1.drop('Unnamed: 0',axis = 1,inplace = True)"
   ]
  },
  {
   "cell_type": "code",
   "execution_count": 49,
   "id": "6410e6ee",
   "metadata": {},
   "outputs": [
    {
     "data": {
      "text/plain": [
       "Index(['Company Name', 'Location', 'Job Title', 'Description', 'JOB',\n",
       "       'Location.1', 'State', 'Python', 'SQL', 'R language', 'Linux', '0',\n",
       "       'Cloud', 'Revenue', 'No of employee'],\n",
       "      dtype='object')"
      ]
     },
     "execution_count": 49,
     "metadata": {},
     "output_type": "execute_result"
    }
   ],
   "source": [
    "df1.columns"
   ]
  },
  {
   "cell_type": "code",
   "execution_count": 50,
   "id": "ae6f9e81",
   "metadata": {},
   "outputs": [],
   "source": [
    "df1 = df1[['Company Name','Location.1','JOB','Python','SQL','R language','Linux','Cloud','0','Revenue','No of employee']]"
   ]
  },
  {
   "cell_type": "code",
   "execution_count": 51,
   "id": "0edb39c8",
   "metadata": {},
   "outputs": [
    {
     "data": {
      "text/html": [
       "<div>\n",
       "<style scoped>\n",
       "    .dataframe tbody tr th:only-of-type {\n",
       "        vertical-align: middle;\n",
       "    }\n",
       "\n",
       "    .dataframe tbody tr th {\n",
       "        vertical-align: top;\n",
       "    }\n",
       "\n",
       "    .dataframe thead th {\n",
       "        text-align: right;\n",
       "    }\n",
       "</style>\n",
       "<table border=\"1\" class=\"dataframe\">\n",
       "  <thead>\n",
       "    <tr style=\"text-align: right;\">\n",
       "      <th></th>\n",
       "      <th>Company Name</th>\n",
       "      <th>Location.1</th>\n",
       "      <th>JOB</th>\n",
       "      <th>Python</th>\n",
       "      <th>SQL</th>\n",
       "      <th>R language</th>\n",
       "      <th>Linux</th>\n",
       "      <th>Cloud</th>\n",
       "      <th>0</th>\n",
       "      <th>Revenue</th>\n",
       "      <th>No of employee</th>\n",
       "    </tr>\n",
       "  </thead>\n",
       "  <tbody>\n",
       "    <tr>\n",
       "      <th>0</th>\n",
       "      <td>Bosch Group</td>\n",
       "      <td>Bengaluru</td>\n",
       "      <td>Data Scientist</td>\n",
       "      <td>0</td>\n",
       "      <td>0</td>\n",
       "      <td>0</td>\n",
       "      <td>0</td>\n",
       "      <td>AWS</td>\n",
       "      <td>0</td>\n",
       "      <td>77.721</td>\n",
       "      <td>31000</td>\n",
       "    </tr>\n",
       "    <tr>\n",
       "      <th>1</th>\n",
       "      <td>Standard Chartered</td>\n",
       "      <td>Chennai</td>\n",
       "      <td>Data Scientist</td>\n",
       "      <td>1</td>\n",
       "      <td>0</td>\n",
       "      <td>0</td>\n",
       "      <td>1</td>\n",
       "      <td>AWS</td>\n",
       "      <td>0</td>\n",
       "      <td>14.701</td>\n",
       "      <td>85000</td>\n",
       "    </tr>\n",
       "    <tr>\n",
       "      <th>2</th>\n",
       "      <td>Kaplan</td>\n",
       "      <td>Bengaluru</td>\n",
       "      <td>Data Scientist</td>\n",
       "      <td>1</td>\n",
       "      <td>0</td>\n",
       "      <td>0</td>\n",
       "      <td>0</td>\n",
       "      <td>AWS</td>\n",
       "      <td>0</td>\n",
       "      <td>1.3</td>\n",
       "      <td>12000</td>\n",
       "    </tr>\n",
       "    <tr>\n",
       "      <th>3</th>\n",
       "      <td>Corteva Agriscience</td>\n",
       "      <td>Hyderabad</td>\n",
       "      <td>Data Scientist</td>\n",
       "      <td>1</td>\n",
       "      <td>0</td>\n",
       "      <td>0</td>\n",
       "      <td>1</td>\n",
       "      <td>AWS</td>\n",
       "      <td>0</td>\n",
       "      <td>14.271</td>\n",
       "      <td>21000</td>\n",
       "    </tr>\n",
       "    <tr>\n",
       "      <th>4</th>\n",
       "      <td>UnitedHealth Group</td>\n",
       "      <td>Bengaluru</td>\n",
       "      <td>Data Scientist</td>\n",
       "      <td>1</td>\n",
       "      <td>0</td>\n",
       "      <td>0</td>\n",
       "      <td>0</td>\n",
       "      <td>AWS</td>\n",
       "      <td>0</td>\n",
       "      <td>285.1</td>\n",
       "      <td>300000</td>\n",
       "    </tr>\n",
       "  </tbody>\n",
       "</table>\n",
       "</div>"
      ],
      "text/plain": [
       "          Company Name Location.1             JOB  Python  SQL  R language  \\\n",
       "0          Bosch Group  Bengaluru  Data Scientist       0    0           0   \n",
       "1   Standard Chartered    Chennai  Data Scientist       1    0           0   \n",
       "2               Kaplan  Bengaluru  Data Scientist       1    0           0   \n",
       "3  Corteva Agriscience  Hyderabad  Data Scientist       1    0           0   \n",
       "4   UnitedHealth Group  Bengaluru  Data Scientist       1    0           0   \n",
       "\n",
       "   Linux Cloud  0 Revenue No of employee  \n",
       "0      0   AWS  0  77.721          31000  \n",
       "1      1   AWS  0  14.701          85000  \n",
       "2      0   AWS  0     1.3          12000  \n",
       "3      1   AWS  0  14.271          21000  \n",
       "4      0   AWS  0   285.1         300000  "
      ]
     },
     "execution_count": 51,
     "metadata": {},
     "output_type": "execute_result"
    }
   ],
   "source": [
    "df1.head()"
   ]
  },
  {
   "cell_type": "code",
   "execution_count": 52,
   "id": "7ceb26d0",
   "metadata": {},
   "outputs": [
    {
     "name": "stdout",
     "output_type": "stream",
     "text": [
      "<class 'pandas.core.frame.DataFrame'>\n",
      "RangeIndex: 985 entries, 0 to 984\n",
      "Data columns (total 11 columns):\n",
      " #   Column          Non-Null Count  Dtype \n",
      "---  ------          --------------  ----- \n",
      " 0   Company Name    985 non-null    object\n",
      " 1   Location.1      985 non-null    object\n",
      " 2   JOB             985 non-null    object\n",
      " 3   Python          985 non-null    int64 \n",
      " 4   SQL             985 non-null    int64 \n",
      " 5   R language      985 non-null    int64 \n",
      " 6   Linux           985 non-null    int64 \n",
      " 7   Cloud           985 non-null    object\n",
      " 8   0               985 non-null    int64 \n",
      " 9   Revenue         981 non-null    object\n",
      " 10  No of employee  985 non-null    object\n",
      "dtypes: int64(5), object(6)\n",
      "memory usage: 84.8+ KB\n"
     ]
    }
   ],
   "source": [
    "df1.info()"
   ]
  },
  {
   "cell_type": "code",
   "execution_count": 53,
   "id": "01af37bc",
   "metadata": {},
   "outputs": [
    {
     "data": {
      "text/plain": [
       "Company Name      0\n",
       "Location.1        0\n",
       "JOB               0\n",
       "Python            0\n",
       "SQL               0\n",
       "R language        0\n",
       "Linux             0\n",
       "Cloud             0\n",
       "0                 0\n",
       "Revenue           4\n",
       "No of employee    0\n",
       "dtype: int64"
      ]
     },
     "execution_count": 53,
     "metadata": {},
     "output_type": "execute_result"
    }
   ],
   "source": [
    "df1.isnull().sum()"
   ]
  },
  {
   "cell_type": "code",
   "execution_count": 54,
   "id": "64030d56",
   "metadata": {},
   "outputs": [],
   "source": [
    "df1.Revenue = df1.Revenue.fillna(0.0005)"
   ]
  },
  {
   "cell_type": "code",
   "execution_count": 55,
   "id": "1d35f083",
   "metadata": {},
   "outputs": [
    {
     "name": "stdout",
     "output_type": "stream",
     "text": [
      "<class 'pandas.core.frame.DataFrame'>\n",
      "RangeIndex: 985 entries, 0 to 984\n",
      "Data columns (total 11 columns):\n",
      " #   Column          Non-Null Count  Dtype \n",
      "---  ------          --------------  ----- \n",
      " 0   Company Name    985 non-null    object\n",
      " 1   Location.1      985 non-null    object\n",
      " 2   JOB             985 non-null    object\n",
      " 3   Python          985 non-null    int64 \n",
      " 4   SQL             985 non-null    int64 \n",
      " 5   R language      985 non-null    int64 \n",
      " 6   Linux           985 non-null    int64 \n",
      " 7   Cloud           985 non-null    object\n",
      " 8   0               985 non-null    int64 \n",
      " 9   Revenue         985 non-null    object\n",
      " 10  No of employee  985 non-null    object\n",
      "dtypes: int64(5), object(6)\n",
      "memory usage: 84.8+ KB\n"
     ]
    }
   ],
   "source": [
    "df1.info()"
   ]
  },
  {
   "cell_type": "code",
   "execution_count": 56,
   "id": "3bd8bc2a",
   "metadata": {},
   "outputs": [
    {
     "name": "stderr",
     "output_type": "stream",
     "text": [
      "C:\\Users\\NIhar\\AppData\\Local\\Temp/ipykernel_15916/2579849008.py:3: FutureWarning: The default value of regex will change from True to False in a future version. In addition, single character regular expressions will*not* be treated as literal strings when regex=True.\n",
      "  df1['No of employee'] = df1['No of employee'].str.replace('.','')\n"
     ]
    }
   ],
   "source": [
    "df1.Revenue = df1.Revenue.str.replace(',','.')\n",
    "df1['No of employee'] = df1['No of employee'].str.replace(',','.')\n",
    "df1['No of employee'] = df1['No of employee'].str.replace('.','')"
   ]
  },
  {
   "cell_type": "code",
   "execution_count": 57,
   "id": "5c3ec9eb",
   "metadata": {},
   "outputs": [],
   "source": [
    "df1['Tablue'] = df1['0']"
   ]
  },
  {
   "cell_type": "code",
   "execution_count": 58,
   "id": "78dbe665",
   "metadata": {},
   "outputs": [],
   "source": [
    "df1.Revenue =pd.to_numeric(df1.Revenue)\n",
    "df1['No of employee'] =pd.to_numeric( df1['No of employee'])"
   ]
  },
  {
   "cell_type": "code",
   "execution_count": 59,
   "id": "86525690",
   "metadata": {},
   "outputs": [
    {
     "data": {
      "text/plain": [
       "array(['AWS', 'Azure', 'Both or Didnt Specift'], dtype=object)"
      ]
     },
     "execution_count": 59,
     "metadata": {},
     "output_type": "execute_result"
    }
   ],
   "source": [
    "df1.Cloud.unique()"
   ]
  },
  {
   "cell_type": "code",
   "execution_count": 60,
   "id": "370648ec",
   "metadata": {},
   "outputs": [],
   "source": [
    "s = {'AWS' : 0 , 'Azure' : 1, 'Both or Didnt Specift' : 2}\n",
    "df1['Cloud'] = df1['Cloud'].map(s)"
   ]
  },
  {
   "cell_type": "code",
   "execution_count": 61,
   "id": "c51d8af4",
   "metadata": {},
   "outputs": [
    {
     "name": "stdout",
     "output_type": "stream",
     "text": [
      "<class 'pandas.core.frame.DataFrame'>\n",
      "RangeIndex: 985 entries, 0 to 984\n",
      "Data columns (total 12 columns):\n",
      " #   Column          Non-Null Count  Dtype  \n",
      "---  ------          --------------  -----  \n",
      " 0   Company Name    985 non-null    object \n",
      " 1   Location.1      985 non-null    object \n",
      " 2   JOB             985 non-null    object \n",
      " 3   Python          985 non-null    int64  \n",
      " 4   SQL             985 non-null    int64  \n",
      " 5   R language      985 non-null    int64  \n",
      " 6   Linux           985 non-null    int64  \n",
      " 7   Cloud           985 non-null    int64  \n",
      " 8   0               985 non-null    int64  \n",
      " 9   Revenue         981 non-null    float64\n",
      " 10  No of employee  985 non-null    int64  \n",
      " 11  Tablue          985 non-null    int64  \n",
      "dtypes: float64(1), int64(8), object(3)\n",
      "memory usage: 92.5+ KB\n"
     ]
    }
   ],
   "source": [
    "df1.info()"
   ]
  },
  {
   "cell_type": "code",
   "execution_count": 62,
   "id": "3fcad448",
   "metadata": {},
   "outputs": [],
   "source": [
    "from sklearn.preprocessing import LabelEncoder\n",
    "le = LabelEncoder()"
   ]
  },
  {
   "cell_type": "code",
   "execution_count": 63,
   "id": "6058e30b",
   "metadata": {},
   "outputs": [],
   "source": [
    "df1['JOB']= le.fit_transform(df1['JOB'])\n",
    "df1['Location.1'] = le.fit_transform(df1['Location.1'])"
   ]
  },
  {
   "cell_type": "code",
   "execution_count": 64,
   "id": "8392152e",
   "metadata": {},
   "outputs": [
    {
     "name": "stdout",
     "output_type": "stream",
     "text": [
      "<class 'pandas.core.frame.DataFrame'>\n",
      "RangeIndex: 985 entries, 0 to 984\n",
      "Data columns (total 12 columns):\n",
      " #   Column          Non-Null Count  Dtype  \n",
      "---  ------          --------------  -----  \n",
      " 0   Company Name    985 non-null    object \n",
      " 1   Location.1      985 non-null    int32  \n",
      " 2   JOB             985 non-null    int32  \n",
      " 3   Python          985 non-null    int64  \n",
      " 4   SQL             985 non-null    int64  \n",
      " 5   R language      985 non-null    int64  \n",
      " 6   Linux           985 non-null    int64  \n",
      " 7   Cloud           985 non-null    int64  \n",
      " 8   0               985 non-null    int64  \n",
      " 9   Revenue         981 non-null    float64\n",
      " 10  No of employee  985 non-null    int64  \n",
      " 11  Tablue          985 non-null    int64  \n",
      "dtypes: float64(1), int32(2), int64(8), object(1)\n",
      "memory usage: 84.8+ KB\n"
     ]
    }
   ],
   "source": [
    "df1.info()"
   ]
  },
  {
   "cell_type": "code",
   "execution_count": 65,
   "id": "b9bc9841",
   "metadata": {},
   "outputs": [],
   "source": [
    "df1.Revenue = df1.Revenue.fillna(0.0005)"
   ]
  },
  {
   "cell_type": "code",
   "execution_count": 66,
   "id": "425b7066",
   "metadata": {},
   "outputs": [],
   "source": [
    "df1.drop('0',axis = 1,inplace = True)"
   ]
  },
  {
   "cell_type": "code",
   "execution_count": 67,
   "id": "f088d0a2",
   "metadata": {},
   "outputs": [
    {
     "data": {
      "text/html": [
       "<div>\n",
       "<style scoped>\n",
       "    .dataframe tbody tr th:only-of-type {\n",
       "        vertical-align: middle;\n",
       "    }\n",
       "\n",
       "    .dataframe tbody tr th {\n",
       "        vertical-align: top;\n",
       "    }\n",
       "\n",
       "    .dataframe thead th {\n",
       "        text-align: right;\n",
       "    }\n",
       "</style>\n",
       "<table border=\"1\" class=\"dataframe\">\n",
       "  <thead>\n",
       "    <tr style=\"text-align: right;\">\n",
       "      <th></th>\n",
       "      <th>Company Name</th>\n",
       "      <th>Location.1</th>\n",
       "      <th>JOB</th>\n",
       "      <th>Python</th>\n",
       "      <th>SQL</th>\n",
       "      <th>R language</th>\n",
       "      <th>Linux</th>\n",
       "      <th>Cloud</th>\n",
       "      <th>Revenue</th>\n",
       "      <th>No of employee</th>\n",
       "      <th>Tablue</th>\n",
       "    </tr>\n",
       "  </thead>\n",
       "  <tbody>\n",
       "    <tr>\n",
       "      <th>0</th>\n",
       "      <td>Bosch Group</td>\n",
       "      <td>8</td>\n",
       "      <td>27</td>\n",
       "      <td>0</td>\n",
       "      <td>0</td>\n",
       "      <td>0</td>\n",
       "      <td>0</td>\n",
       "      <td>0</td>\n",
       "      <td>77.721</td>\n",
       "      <td>31000</td>\n",
       "      <td>0</td>\n",
       "    </tr>\n",
       "    <tr>\n",
       "      <th>1</th>\n",
       "      <td>Standard Chartered</td>\n",
       "      <td>11</td>\n",
       "      <td>27</td>\n",
       "      <td>1</td>\n",
       "      <td>0</td>\n",
       "      <td>0</td>\n",
       "      <td>1</td>\n",
       "      <td>0</td>\n",
       "      <td>14.701</td>\n",
       "      <td>85000</td>\n",
       "      <td>0</td>\n",
       "    </tr>\n",
       "    <tr>\n",
       "      <th>2</th>\n",
       "      <td>Kaplan</td>\n",
       "      <td>8</td>\n",
       "      <td>27</td>\n",
       "      <td>1</td>\n",
       "      <td>0</td>\n",
       "      <td>0</td>\n",
       "      <td>0</td>\n",
       "      <td>0</td>\n",
       "      <td>1.300</td>\n",
       "      <td>12000</td>\n",
       "      <td>0</td>\n",
       "    </tr>\n",
       "    <tr>\n",
       "      <th>3</th>\n",
       "      <td>Corteva Agriscience</td>\n",
       "      <td>18</td>\n",
       "      <td>27</td>\n",
       "      <td>1</td>\n",
       "      <td>0</td>\n",
       "      <td>0</td>\n",
       "      <td>1</td>\n",
       "      <td>0</td>\n",
       "      <td>14.271</td>\n",
       "      <td>21000</td>\n",
       "      <td>0</td>\n",
       "    </tr>\n",
       "    <tr>\n",
       "      <th>4</th>\n",
       "      <td>UnitedHealth Group</td>\n",
       "      <td>8</td>\n",
       "      <td>27</td>\n",
       "      <td>1</td>\n",
       "      <td>0</td>\n",
       "      <td>0</td>\n",
       "      <td>0</td>\n",
       "      <td>0</td>\n",
       "      <td>285.100</td>\n",
       "      <td>300000</td>\n",
       "      <td>0</td>\n",
       "    </tr>\n",
       "  </tbody>\n",
       "</table>\n",
       "</div>"
      ],
      "text/plain": [
       "          Company Name  Location.1  JOB  Python  SQL  R language  Linux  \\\n",
       "0          Bosch Group           8   27       0    0           0      0   \n",
       "1   Standard Chartered          11   27       1    0           0      1   \n",
       "2               Kaplan           8   27       1    0           0      0   \n",
       "3  Corteva Agriscience          18   27       1    0           0      1   \n",
       "4   UnitedHealth Group           8   27       1    0           0      0   \n",
       "\n",
       "   Cloud  Revenue  No of employee  Tablue  \n",
       "0      0   77.721           31000       0  \n",
       "1      0   14.701           85000       0  \n",
       "2      0    1.300           12000       0  \n",
       "3      0   14.271           21000       0  \n",
       "4      0  285.100          300000       0  "
      ]
     },
     "execution_count": 67,
     "metadata": {},
     "output_type": "execute_result"
    }
   ],
   "source": [
    "df1.head()"
   ]
  },
  {
   "cell_type": "code",
   "execution_count": 68,
   "id": "6f2889c6",
   "metadata": {},
   "outputs": [],
   "source": [
    "X = df1.iloc[: , 1 :]"
   ]
  },
  {
   "cell_type": "code",
   "execution_count": 69,
   "id": "7a21b281",
   "metadata": {},
   "outputs": [
    {
     "data": {
      "text/plain": [
       "Location.1        0\n",
       "JOB               0\n",
       "Python            0\n",
       "SQL               0\n",
       "R language        0\n",
       "Linux             0\n",
       "Cloud             0\n",
       "Revenue           0\n",
       "No of employee    0\n",
       "Tablue            0\n",
       "dtype: int64"
      ]
     },
     "execution_count": 69,
     "metadata": {},
     "output_type": "execute_result"
    }
   ],
   "source": [
    "X.isnull().sum()"
   ]
  },
  {
   "cell_type": "code",
   "execution_count": 70,
   "id": "9e4a017d",
   "metadata": {},
   "outputs": [],
   "source": [
    "from sklearn.cluster import KMeans\n",
    "kmeans = KMeans(n_clusters=8, random_state=42,algorithm='elkan',init='k-means++').fit(X)"
   ]
  },
  {
   "cell_type": "code",
   "execution_count": 71,
   "id": "89371efa",
   "metadata": {},
   "outputs": [],
   "source": [
    "df1['Clusters'] = kmeans.labels_"
   ]
  },
  {
   "cell_type": "code",
   "execution_count": 73,
   "id": "3b7daffd",
   "metadata": {},
   "outputs": [
    {
     "data": {
      "text/html": [
       "<div>\n",
       "<style scoped>\n",
       "    .dataframe tbody tr th:only-of-type {\n",
       "        vertical-align: middle;\n",
       "    }\n",
       "\n",
       "    .dataframe tbody tr th {\n",
       "        vertical-align: top;\n",
       "    }\n",
       "\n",
       "    .dataframe thead th {\n",
       "        text-align: right;\n",
       "    }\n",
       "</style>\n",
       "<table border=\"1\" class=\"dataframe\">\n",
       "  <thead>\n",
       "    <tr style=\"text-align: right;\">\n",
       "      <th></th>\n",
       "      <th>Location.1</th>\n",
       "      <th>JOB</th>\n",
       "      <th>Python</th>\n",
       "      <th>SQL</th>\n",
       "      <th>R language</th>\n",
       "      <th>Linux</th>\n",
       "      <th>Cloud</th>\n",
       "      <th>Revenue</th>\n",
       "      <th>No of employee</th>\n",
       "      <th>Tablue</th>\n",
       "    </tr>\n",
       "  </thead>\n",
       "  <tbody>\n",
       "    <tr>\n",
       "      <th>0</th>\n",
       "      <td>8</td>\n",
       "      <td>27</td>\n",
       "      <td>0</td>\n",
       "      <td>0</td>\n",
       "      <td>0</td>\n",
       "      <td>0</td>\n",
       "      <td>0</td>\n",
       "      <td>77.7210</td>\n",
       "      <td>31000</td>\n",
       "      <td>0</td>\n",
       "    </tr>\n",
       "    <tr>\n",
       "      <th>1</th>\n",
       "      <td>11</td>\n",
       "      <td>27</td>\n",
       "      <td>1</td>\n",
       "      <td>0</td>\n",
       "      <td>0</td>\n",
       "      <td>1</td>\n",
       "      <td>0</td>\n",
       "      <td>14.7010</td>\n",
       "      <td>85000</td>\n",
       "      <td>0</td>\n",
       "    </tr>\n",
       "    <tr>\n",
       "      <th>2</th>\n",
       "      <td>8</td>\n",
       "      <td>27</td>\n",
       "      <td>1</td>\n",
       "      <td>0</td>\n",
       "      <td>0</td>\n",
       "      <td>0</td>\n",
       "      <td>0</td>\n",
       "      <td>1.3000</td>\n",
       "      <td>12000</td>\n",
       "      <td>0</td>\n",
       "    </tr>\n",
       "    <tr>\n",
       "      <th>3</th>\n",
       "      <td>18</td>\n",
       "      <td>27</td>\n",
       "      <td>1</td>\n",
       "      <td>0</td>\n",
       "      <td>0</td>\n",
       "      <td>1</td>\n",
       "      <td>0</td>\n",
       "      <td>14.2710</td>\n",
       "      <td>21000</td>\n",
       "      <td>0</td>\n",
       "    </tr>\n",
       "    <tr>\n",
       "      <th>4</th>\n",
       "      <td>8</td>\n",
       "      <td>27</td>\n",
       "      <td>1</td>\n",
       "      <td>0</td>\n",
       "      <td>0</td>\n",
       "      <td>0</td>\n",
       "      <td>0</td>\n",
       "      <td>285.1000</td>\n",
       "      <td>300000</td>\n",
       "      <td>0</td>\n",
       "    </tr>\n",
       "    <tr>\n",
       "      <th>...</th>\n",
       "      <td>...</td>\n",
       "      <td>...</td>\n",
       "      <td>...</td>\n",
       "      <td>...</td>\n",
       "      <td>...</td>\n",
       "      <td>...</td>\n",
       "      <td>...</td>\n",
       "      <td>...</td>\n",
       "      <td>...</td>\n",
       "      <td>...</td>\n",
       "    </tr>\n",
       "    <tr>\n",
       "      <th>980</th>\n",
       "      <td>37</td>\n",
       "      <td>27</td>\n",
       "      <td>0</td>\n",
       "      <td>1</td>\n",
       "      <td>0</td>\n",
       "      <td>0</td>\n",
       "      <td>0</td>\n",
       "      <td>0.0160</td>\n",
       "      <td>8</td>\n",
       "      <td>0</td>\n",
       "    </tr>\n",
       "    <tr>\n",
       "      <th>981</th>\n",
       "      <td>18</td>\n",
       "      <td>42</td>\n",
       "      <td>0</td>\n",
       "      <td>1</td>\n",
       "      <td>1</td>\n",
       "      <td>0</td>\n",
       "      <td>1</td>\n",
       "      <td>1.4900</td>\n",
       "      <td>10892</td>\n",
       "      <td>0</td>\n",
       "    </tr>\n",
       "    <tr>\n",
       "      <th>982</th>\n",
       "      <td>15</td>\n",
       "      <td>27</td>\n",
       "      <td>0</td>\n",
       "      <td>0</td>\n",
       "      <td>1</td>\n",
       "      <td>0</td>\n",
       "      <td>0</td>\n",
       "      <td>0.0005</td>\n",
       "      <td>20</td>\n",
       "      <td>0</td>\n",
       "    </tr>\n",
       "    <tr>\n",
       "      <th>983</th>\n",
       "      <td>32</td>\n",
       "      <td>9</td>\n",
       "      <td>0</td>\n",
       "      <td>0</td>\n",
       "      <td>0</td>\n",
       "      <td>0</td>\n",
       "      <td>0</td>\n",
       "      <td>119.5400</td>\n",
       "      <td>256105</td>\n",
       "      <td>1</td>\n",
       "    </tr>\n",
       "    <tr>\n",
       "      <th>984</th>\n",
       "      <td>8</td>\n",
       "      <td>25</td>\n",
       "      <td>0</td>\n",
       "      <td>0</td>\n",
       "      <td>0</td>\n",
       "      <td>1</td>\n",
       "      <td>2</td>\n",
       "      <td>14.4600</td>\n",
       "      <td>66000</td>\n",
       "      <td>0</td>\n",
       "    </tr>\n",
       "  </tbody>\n",
       "</table>\n",
       "<p>985 rows × 10 columns</p>\n",
       "</div>"
      ],
      "text/plain": [
       "     Location.1  JOB  Python  SQL  R language  Linux  Cloud   Revenue  \\\n",
       "0             8   27       0    0           0      0      0   77.7210   \n",
       "1            11   27       1    0           0      1      0   14.7010   \n",
       "2             8   27       1    0           0      0      0    1.3000   \n",
       "3            18   27       1    0           0      1      0   14.2710   \n",
       "4             8   27       1    0           0      0      0  285.1000   \n",
       "..          ...  ...     ...  ...         ...    ...    ...       ...   \n",
       "980          37   27       0    1           0      0      0    0.0160   \n",
       "981          18   42       0    1           1      0      1    1.4900   \n",
       "982          15   27       0    0           1      0      0    0.0005   \n",
       "983          32    9       0    0           0      0      0  119.5400   \n",
       "984           8   25       0    0           0      1      2   14.4600   \n",
       "\n",
       "     No of employee  Tablue  \n",
       "0             31000       0  \n",
       "1             85000       0  \n",
       "2             12000       0  \n",
       "3             21000       0  \n",
       "4            300000       0  \n",
       "..              ...     ...  \n",
       "980               8       0  \n",
       "981           10892       0  \n",
       "982              20       0  \n",
       "983          256105       1  \n",
       "984           66000       0  \n",
       "\n",
       "[985 rows x 10 columns]"
      ]
     },
     "execution_count": 73,
     "metadata": {},
     "output_type": "execute_result"
    }
   ],
   "source": [
    "X"
   ]
  },
  {
   "cell_type": "code",
   "execution_count": 77,
   "id": "baf523a2",
   "metadata": {},
   "outputs": [
    {
     "name": "stderr",
     "output_type": "stream",
     "text": [
      "D:\\ANACONDA\\envs\\notebook\\lib\\site-packages\\seaborn\\_decorators.py:36: FutureWarning: Pass the following variables as keyword args: x, y. From version 0.12, the only valid positional argument will be `data`, and passing other arguments without an explicit keyword will result in an error or misinterpretation.\n",
      "  warnings.warn(\n"
     ]
    },
    {
     "data": {
      "image/png": "[encoded data removed]",
      "text/plain": [
       "<Figure size 864x360 with 1 Axes>"
      ]
     },
     "metadata": {
      "needs_background": "light"
     },
     "output_type": "display_data"
    }
   ],
   "source": [
    "import seaborn as sns\n",
    "import matplotlib.pyplot as plt\n",
    "from sklearn.metrics import silhouette_score\n",
    "n_clusters = [2,3,4,5,6,7,8,9,10] # number of clusters\n",
    "clusters_inertia = [] # inertia of clusters\n",
    "s_scores = [] # silhouette scores\n",
    "\n",
    "for n in n_clusters:\n",
    "    KM_est = KMeans(n_clusters=n, init='k-means++').fit(X)\n",
    "    clusters_inertia.append(KM_est.inertia_)    # data for the elbow method\n",
    "    silhouette_avg = silhouette_score(X, KM_est.labels_)\n",
    "    s_scores.append(silhouette_avg)\n",
    "fig, ax = plt.subplots(figsize=(12,5))\n",
    "ax = sns.lineplot(n_clusters, clusters_inertia, marker='o', ax=ax)\n",
    "ax.set_title(\"Elbow method\")\n",
    "ax.set_xlabel(\"number of clusters\")\n",
    "ax.set_ylabel(\"clusters inertia\")\n",
    "ax.axvline(5, ls=\"--\", c=\"red\")\n",
    "ax.axvline(8, ls=\"--\", c=\"red\")\n",
    "plt.grid()\n",
    "plt.show()"
   ]
  },
  {
   "cell_type": "code",
   "execution_count": 78,
   "id": "ebc9bf09",
   "metadata": {},
   "outputs": [],
   "source": [
    "X['Cluster'] = kmeans.labels_"
   ]
  },
  {
   "cell_type": "code",
   "execution_count": 80,
   "id": "46c235f6",
   "metadata": {},
   "outputs": [
    {
     "data": {
      "text/html": [
       "<div>\n",
       "<style scoped>\n",
       "    .dataframe tbody tr th:only-of-type {\n",
       "        vertical-align: middle;\n",
       "    }\n",
       "\n",
       "    .dataframe tbody tr th {\n",
       "        vertical-align: top;\n",
       "    }\n",
       "\n",
       "    .dataframe thead th {\n",
       "        text-align: right;\n",
       "    }\n",
       "</style>\n",
       "<table border=\"1\" class=\"dataframe\">\n",
       "  <thead>\n",
       "    <tr style=\"text-align: right;\">\n",
       "      <th></th>\n",
       "      <th>Location.1</th>\n",
       "      <th>JOB</th>\n",
       "      <th>Python</th>\n",
       "      <th>SQL</th>\n",
       "      <th>R language</th>\n",
       "      <th>Linux</th>\n",
       "      <th>Cloud</th>\n",
       "      <th>Revenue</th>\n",
       "      <th>No of employee</th>\n",
       "      <th>Tablue</th>\n",
       "      <th>Cluster</th>\n",
       "    </tr>\n",
       "  </thead>\n",
       "  <tbody>\n",
       "    <tr>\n",
       "      <th>0</th>\n",
       "      <td>8</td>\n",
       "      <td>27</td>\n",
       "      <td>0</td>\n",
       "      <td>0</td>\n",
       "      <td>0</td>\n",
       "      <td>0</td>\n",
       "      <td>0</td>\n",
       "      <td>77.721</td>\n",
       "      <td>31000</td>\n",
       "      <td>0</td>\n",
       "      <td>0</td>\n",
       "    </tr>\n",
       "    <tr>\n",
       "      <th>1</th>\n",
       "      <td>11</td>\n",
       "      <td>27</td>\n",
       "      <td>1</td>\n",
       "      <td>0</td>\n",
       "      <td>0</td>\n",
       "      <td>1</td>\n",
       "      <td>0</td>\n",
       "      <td>14.701</td>\n",
       "      <td>85000</td>\n",
       "      <td>0</td>\n",
       "      <td>3</td>\n",
       "    </tr>\n",
       "    <tr>\n",
       "      <th>2</th>\n",
       "      <td>8</td>\n",
       "      <td>27</td>\n",
       "      <td>1</td>\n",
       "      <td>0</td>\n",
       "      <td>0</td>\n",
       "      <td>0</td>\n",
       "      <td>0</td>\n",
       "      <td>1.300</td>\n",
       "      <td>12000</td>\n",
       "      <td>0</td>\n",
       "      <td>4</td>\n",
       "    </tr>\n",
       "    <tr>\n",
       "      <th>3</th>\n",
       "      <td>18</td>\n",
       "      <td>27</td>\n",
       "      <td>1</td>\n",
       "      <td>0</td>\n",
       "      <td>0</td>\n",
       "      <td>1</td>\n",
       "      <td>0</td>\n",
       "      <td>14.271</td>\n",
       "      <td>21000</td>\n",
       "      <td>0</td>\n",
       "      <td>0</td>\n",
       "    </tr>\n",
       "    <tr>\n",
       "      <th>4</th>\n",
       "      <td>8</td>\n",
       "      <td>27</td>\n",
       "      <td>1</td>\n",
       "      <td>0</td>\n",
       "      <td>0</td>\n",
       "      <td>0</td>\n",
       "      <td>0</td>\n",
       "      <td>285.100</td>\n",
       "      <td>300000</td>\n",
       "      <td>0</td>\n",
       "      <td>6</td>\n",
       "    </tr>\n",
       "  </tbody>\n",
       "</table>\n",
       "</div>"
      ],
      "text/plain": [
       "   Location.1  JOB  Python  SQL  R language  Linux  Cloud  Revenue  \\\n",
       "0           8   27       0    0           0      0      0   77.721   \n",
       "1          11   27       1    0           0      1      0   14.701   \n",
       "2           8   27       1    0           0      0      0    1.300   \n",
       "3          18   27       1    0           0      1      0   14.271   \n",
       "4           8   27       1    0           0      0      0  285.100   \n",
       "\n",
       "   No of employee  Tablue  Cluster  \n",
       "0           31000       0        0  \n",
       "1           85000       0        3  \n",
       "2           12000       0        4  \n",
       "3           21000       0        0  \n",
       "4          300000       0        6  "
      ]
     },
     "execution_count": 80,
     "metadata": {},
     "output_type": "execute_result"
    }
   ],
   "source": [
    "X.head()"
   ]
  },
  {
   "cell_type": "code",
   "execution_count": 82,
   "id": "f3524836",
   "metadata": {},
   "outputs": [
    {
     "name": "stderr",
     "output_type": "stream",
     "text": [
      "D:\\ANACONDA\\envs\\notebook\\lib\\site-packages\\seaborn\\_decorators.py:36: FutureWarning: Pass the following variable as a keyword arg: x. From version 0.12, the only valid positional argument will be `data`, and passing other arguments without an explicit keyword will result in an error or misinterpretation.\n",
      "  warnings.warn(\n"
     ]
    },
    {
     "data": {
      "image/png": "[encoded data removed]",
      "text/plain": [
       "<Figure size 720x576 with 1 Axes>"
      ]
     },
     "metadata": {
      "needs_background": "light"
     },
     "output_type": "display_data"
    }
   ],
   "source": [
    "plt.figure(figsize=(10,8))\n",
    "sns.countplot(X['Cluster'])\n",
    "plt.show()"
   ]
  },
  {
   "cell_type": "code",
   "execution_count": 91,
   "id": "1c531d9f",
   "metadata": {
    "scrolled": false
   },
   "outputs": [
    {
     "data": {
      "image/png": "[encoded data removed]",
      "text/plain": [
       "<Figure size 720x576 with 1 Axes>"
      ]
     },
     "metadata": {
      "needs_background": "light"
     },
     "output_type": "display_data"
    }
   ],
   "source": [
    "## Herarical Clustering\n",
    "from scipy.cluster.hierarchy import linkage, dendrogram\n",
    "merg = linkage(X.iloc[:,0:-1],method=\"ward\")\n",
    "plt.figure(figsize=(10,8))\n",
    "dendrogram(merg,leaf_rotation = 40)\n",
    "plt.xlabel(\"data points\")\n",
    "plt.ylabel(\"euclidean distance\")\n",
    "plt.show()"
   ]
  },
  {
   "cell_type": "code",
   "execution_count": 92,
   "id": "93fa20aa",
   "metadata": {},
   "outputs": [
    {
     "data": {
      "image/png": "[encoded data removed]",
      "text/plain": [
       "<Figure size 720x576 with 1 Axes>"
      ]
     },
     "metadata": {
      "needs_background": "light"
     },
     "output_type": "display_data"
    }
   ],
   "source": [
    "from sklearn.tree import DecisionTreeClassifier\n",
    "clf = DecisionTreeClassifier()\n",
    "clf.fit(X.iloc[:,0:-1].values,X['Cluster'].values) \n",
    "\n",
    "from sklearn import tree\n",
    "plt.figure(figsize=(10,8))\n",
    "tree.plot_tree(clf)\n",
    "plt.show()"
   ]
  },
  {
   "cell_type": "code",
   "execution_count": 84,
   "id": "f169483a",
   "metadata": {},
   "outputs": [],
   "source": [
    "Cluster1 = df2[df2['Clusters'] == 0]\n",
    "Cluster2 = df2[df2['Clusters'] == 1]\n",
    "Cluster3 = df2[df2['Clusters'] == 2]\n",
    "Cluster4 = df2[df2['Clusters'] == 3]\n",
    "Cluster5 = df2[df2['Clusters'] == 4]\n",
    "Cluster6 = df2[df2['Clusters'] == 5]\n",
    "Cluster7 = df2[df2['Clusters'] == 6]\n",
    "Cluster8 = df2[df2['Clusters'] == 7]"
   ]
  },
  {
   "cell_type": "code",
   "execution_count": 85,
   "id": "a4e84966",
   "metadata": {},
   "outputs": [],
   "source": [
    "Cluster1.to_csv('Cluster1.csv')\n",
    "Cluster2.to_csv('Cluster2.csv')\n",
    "Cluster3.to_csv('Cluster3.csv')\n",
    "Cluster4.to_csv('Cluster4.csv')\n",
    "Cluster5.to_csv('Cluster5.csv')\n",
    "Cluster6.to_csv('Cluster6.csv')\n",
    "Cluster7.to_csv('Cluster7.csv')\n",
    "Cluster8.to_csv('Cluster8.csv')"
   ]
  }
 ],
 "metadata": {
  "kernelspec": {
   "display_name": "Python 3 (ipykernel)",
   "language": "python",
   "name": "python3"
  },
  "language_info": {
   "codemirror_mode": {
    "name": "ipython",
    "version": 3
   },
   "file_extension": ".py",
   "mimetype": "text/x-python",
   "name": "python",
   "nbconvert_exporter": "python",
   "pygments_lexer": "ipython3",
   "version": "3.9.7"
  }
 },
 "nbformat": 4,
 "nbformat_minor": 5
}
